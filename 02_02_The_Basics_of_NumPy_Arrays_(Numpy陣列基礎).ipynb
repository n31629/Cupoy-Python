{
  "cells": [
    {
      "cell_type": "markdown",
      "metadata": {
        "id": "aZPVF6BC_w-5"
      },
      "source": [
        "<!--BOOK_INFORMATION-->\n",
        "<img align=\"left\" style=\"padding-right:10px;\" src=\"https://github.com/jakevdp/PythonDataScienceHandbook/blob/master/notebooks/figures/PDSH-cover-small.png?raw=1\">\n",
        "\n",
        "*This notebook contains an excerpt from the [Python Data Science Handbook](http://shop.oreilly.com/product/0636920034919.do) by Jake VanderPlas; the content is available [on GitHub](https://github.com/jakevdp/PythonDataScienceHandbook).*\n",
        "\n",
        "*The text is released under the [CC-BY-NC-ND license](https://creativecommons.org/licenses/by-nc-nd/3.0/us/legalcode), and code is released under the [MIT license](https://opensource.org/licenses/MIT). If you find this content useful, please consider supporting the work by [buying the book](http://shop.oreilly.com/product/0636920034919.do)!*"
      ]
    },
    {
      "cell_type": "markdown",
      "metadata": {
        "id": "pOL4qGHt_w_J"
      },
      "source": [
        "<!--NAVIGATION-->\n",
        "< [Understanding Data Types in Python](02.01-Understanding-Data-Types.ipynb) | [Contents](Index.ipynb) | [Computation on NumPy Arrays: Universal Functions](02.03-Computation-on-arrays-ufuncs.ipynb) >\n",
        "\n",
        "<a href=\"https://colab.research.google.com/github/jakevdp/PythonDataScienceHandbook/blob/master/notebooks/02.02-The-Basics-Of-NumPy-Arrays.ipynb\"><img align=\"left\" src=\"https://colab.research.google.com/assets/colab-badge.svg\" alt=\"Open in Colab\" title=\"Open and Execute in Google Colaboratory\"></a>\n"
      ]
    },
    {
      "cell_type": "markdown",
      "metadata": {
        "id": "EbcUES5A_w_N"
      },
      "source": [
        "# Numpy陣列(Array)基礎"
      ]
    },
    {
      "cell_type": "markdown",
      "metadata": {
        "id": "ZD_e4FAX_w_S"
      },
      "source": [
        "## Numpy陣列屬性"
      ]
    },
    {
      "cell_type": "code",
      "execution_count": 10,
      "metadata": {
        "id": "daSVmoBQ_w_Y",
        "colab": {
          "base_uri": "https://localhost:8080/"
        },
        "outputId": "53b52689-df6b-4097-b6b4-a3d5d2930db6"
      },
      "outputs": [
        {
          "output_type": "execute_result",
          "data": {
            "text/plain": [
              "array([[[8, 1, 5, 9, 8],\n",
              "        [9, 4, 3, 0, 3],\n",
              "        [5, 0, 2, 3, 8],\n",
              "        [1, 3, 3, 3, 7]],\n",
              "\n",
              "       [[0, 1, 9, 9, 0],\n",
              "        [4, 7, 3, 2, 7],\n",
              "        [2, 0, 0, 4, 5],\n",
              "        [5, 6, 8, 4, 1]],\n",
              "\n",
              "       [[4, 9, 8, 1, 1],\n",
              "        [7, 9, 9, 3, 6],\n",
              "        [7, 2, 0, 3, 5],\n",
              "        [9, 4, 4, 6, 4]]])"
            ]
          },
          "metadata": {},
          "execution_count": 10
        }
      ],
      "source": [
        "import numpy as np\n",
        "np.random.seed(0)  # 指定一個種子值確保每次執行時均產生同樣的亂數(希望有再現性)\n",
        "           # seed裡面的數字代表哪一組\n",
        "\n",
        "x1 = np.random.randint(10, size=6)  # 一維陣列\n",
        "x2 = np.random.randint(10, size=(3, 4))  # 二維陣列\n",
        "x3 = np.random.randint(10, size=(3, 4, 5))  # 三維陣列\n",
        "\n",
        "x3"
      ]
    },
    {
      "cell_type": "code",
      "source": [
        "np.random.seed(1)\n",
        "y1 = np.random.normal(0, 2, (4,4))\n",
        "y1"
      ],
      "metadata": {
        "colab": {
          "base_uri": "https://localhost:8080/"
        },
        "id": "XoFVJLmNSq3n",
        "outputId": "33863257-163b-4c03-9969-1bc2395c4b9d"
      },
      "execution_count": 2,
      "outputs": [
        {
          "output_type": "execute_result",
          "data": {
            "text/plain": [
              "array([[ 3.24869073, -1.22351283, -1.0563435 , -2.14593724],\n",
              "       [ 1.73081526, -4.60307739,  3.48962353, -1.5224138 ],\n",
              "       [ 0.63807819, -0.49874075,  2.92421587, -4.12028142],\n",
              "       [-0.64483441, -0.76810871,  2.26753888, -2.19978253]])"
            ]
          },
          "metadata": {},
          "execution_count": 2
        }
      ]
    },
    {
      "cell_type": "code",
      "source": [
        "np.random.seed(2)\n",
        "y1 = np.random.normal(0, 2, (4,4))\n",
        "y1"
      ],
      "metadata": {
        "colab": {
          "base_uri": "https://localhost:8080/"
        },
        "id": "nzRLUj6kS4Rm",
        "outputId": "8bd47ddc-721d-487a-c1a8-781a9da3dbad"
      },
      "execution_count": 3,
      "outputs": [
        {
          "output_type": "execute_result",
          "data": {
            "text/plain": [
              "array([[-0.83351569, -0.11253365, -4.27239219,  3.28054162],\n",
              "       [-3.58687117, -1.68349473,  1.00576283, -2.49057617],\n",
              "       [-2.11590444, -1.81801523,  1.10290809,  4.58441603],\n",
              "       [ 0.08307879, -2.23585089,  1.07811664, -1.1923194 ]])"
            ]
          },
          "metadata": {},
          "execution_count": 3
        }
      ]
    },
    {
      "cell_type": "code",
      "source": [
        "np.random.seed(1)\n",
        "y1 = np.random.normal(0, 2, (4,4))\n",
        "y1"
      ],
      "metadata": {
        "colab": {
          "base_uri": "https://localhost:8080/"
        },
        "id": "G6jLYSfGS7hQ",
        "outputId": "008332d5-71fa-4cea-a2e7-e98bede4e7cc"
      },
      "execution_count": 4,
      "outputs": [
        {
          "output_type": "execute_result",
          "data": {
            "text/plain": [
              "array([[ 3.24869073, -1.22351283, -1.0563435 , -2.14593724],\n",
              "       [ 1.73081526, -4.60307739,  3.48962353, -1.5224138 ],\n",
              "       [ 0.63807819, -0.49874075,  2.92421587, -4.12028142],\n",
              "       [-0.64483441, -0.76810871,  2.26753888, -2.19978253]])"
            ]
          },
          "metadata": {},
          "execution_count": 4
        }
      ]
    },
    {
      "cell_type": "markdown",
      "metadata": {
        "id": "ns4cUMHs_w_e"
      },
      "source": [
        "每一個陣列分別有 ``ndim`` (維度數量), ``shape`` (每一個維度的大小), and ``size`` (整個陣列的總大小):"
      ]
    },
    {
      "cell_type": "code",
      "execution_count": null,
      "metadata": {
        "id": "GjZE5Z7I_w_o",
        "outputId": "b1a0c6e8-4a2e-4fb8-bb15-ca54fb57a19d",
        "colab": {
          "base_uri": "https://localhost:8080/"
        }
      },
      "outputs": [
        {
          "output_type": "stream",
          "name": "stdout",
          "text": [
            "x3 ndim:  3\n",
            "x3 shape: (3, 4, 5)\n",
            "x3 size:  60\n"
          ]
        }
      ],
      "source": [
        "print(\"x3 ndim: \", x3.ndim)\n",
        "print(\"x3 shape:\", x3.shape)\n",
        "print(\"x3 size: \", x3.size)"
      ]
    },
    {
      "cell_type": "code",
      "source": [
        "print(y1.ndim) #維度為2是因為y1為常態分佈，只有x和y\n",
        "print(y1.shape)\n",
        "print(y1.size)"
      ],
      "metadata": {
        "colab": {
          "base_uri": "https://localhost:8080/"
        },
        "id": "DUXGjrknTEOv",
        "outputId": "963228fd-e44c-4a10-b23d-570b682d68e1"
      },
      "execution_count": null,
      "outputs": [
        {
          "output_type": "stream",
          "name": "stdout",
          "text": [
            "2\n",
            "(4, 4)\n",
            "16\n"
          ]
        }
      ]
    },
    {
      "cell_type": "markdown",
      "metadata": {
        "id": "nYA4oDAp_w_t"
      },
      "source": [
        "另一個有用的屬性是 ``dtype``, 也就是陣列的資料型態"
      ]
    },
    {
      "cell_type": "code",
      "execution_count": null,
      "metadata": {
        "id": "BGP4QKr6_w_v",
        "outputId": "adb71766-a610-47a9-ad01-4104f8aa94e0",
        "colab": {
          "base_uri": "https://localhost:8080/"
        }
      },
      "outputs": [
        {
          "output_type": "stream",
          "name": "stdout",
          "text": [
            "dtype: int64\n"
          ]
        }
      ],
      "source": [
        "print(\"dtype:\", x3.dtype)"
      ]
    },
    {
      "cell_type": "code",
      "source": [
        "print(y1.dtype)"
      ],
      "metadata": {
        "colab": {
          "base_uri": "https://localhost:8080/"
        },
        "id": "O1wOIeKrTnbv",
        "outputId": "3881b822-b988-4dc8-a7a3-fbc6e469494c"
      },
      "execution_count": null,
      "outputs": [
        {
          "output_type": "stream",
          "name": "stdout",
          "text": [
            "float64\n"
          ]
        }
      ]
    },
    {
      "cell_type": "markdown",
      "metadata": {
        "id": "Q1YzSpjV_w_1"
      },
      "source": [
        "## 陣列索引(Index):存取單一個陣列元素"
      ]
    },
    {
      "cell_type": "markdown",
      "metadata": {
        "id": "0WklSSyX_w_2"
      },
      "source": [
        "在單一陣列中，可以在中括號中指定想要的索引，以存取到第i個值(從0開始算)\n",
        "\n",
        "看到索引值，就要想到位置"
      ]
    },
    {
      "cell_type": "code",
      "execution_count": null,
      "metadata": {
        "id": "xIr-Y2LD_w_3",
        "outputId": "90f181fa-f54b-410e-c4b8-26e6488f6644",
        "colab": {
          "base_uri": "https://localhost:8080/"
        }
      },
      "outputs": [
        {
          "output_type": "execute_result",
          "data": {
            "text/plain": [
              "array([5, 0, 3, 3, 7, 9])"
            ]
          },
          "metadata": {},
          "execution_count": 2
        }
      ],
      "source": [
        "x1"
      ]
    },
    {
      "cell_type": "code",
      "execution_count": null,
      "metadata": {
        "id": "P5ADxCF5_w_5",
        "outputId": "663ed4ed-56ff-436d-bbd5-8f724f7512b8",
        "colab": {
          "base_uri": "https://localhost:8080/"
        }
      },
      "outputs": [
        {
          "output_type": "execute_result",
          "data": {
            "text/plain": [
              "5"
            ]
          },
          "metadata": {},
          "execution_count": 3
        }
      ],
      "source": [
        "x1[0]"
      ]
    },
    {
      "cell_type": "code",
      "execution_count": null,
      "metadata": {
        "id": "WGXHedlv_w_6",
        "outputId": "97e8ffa1-9eec-4af4-97fb-493ae81041da",
        "colab": {
          "base_uri": "https://localhost:8080/"
        }
      },
      "outputs": [
        {
          "output_type": "execute_result",
          "data": {
            "text/plain": [
              "7"
            ]
          },
          "metadata": {},
          "execution_count": 4
        }
      ],
      "source": [
        "x1[4]"
      ]
    },
    {
      "cell_type": "markdown",
      "metadata": {
        "id": "BA7c7eUH_w_7"
      },
      "source": [
        "也可以使用負數，從陣列末尾推算回來:"
      ]
    },
    {
      "cell_type": "code",
      "execution_count": null,
      "metadata": {
        "id": "bTyy88tC_w_8",
        "outputId": "4f26148c-9585-49e4-c8ea-77e54c6ce292",
        "colab": {
          "base_uri": "https://localhost:8080/"
        }
      },
      "outputs": [
        {
          "output_type": "execute_result",
          "data": {
            "text/plain": [
              "9"
            ]
          },
          "metadata": {},
          "execution_count": 5
        }
      ],
      "source": [
        "x1[-1]"
      ]
    },
    {
      "cell_type": "code",
      "execution_count": null,
      "metadata": {
        "id": "MppX-IJD_w_9",
        "outputId": "64574fc6-214b-44f9-ef46-e674e51f4cc0",
        "colab": {
          "base_uri": "https://localhost:8080/"
        }
      },
      "outputs": [
        {
          "output_type": "execute_result",
          "data": {
            "text/plain": [
              "7"
            ]
          },
          "metadata": {},
          "execution_count": 6
        }
      ],
      "source": [
        "x1[-2]"
      ]
    },
    {
      "cell_type": "markdown",
      "metadata": {
        "id": "aTfAcGAK_w_-"
      },
      "source": [
        "在多維陣列中，可以使用以半形逗號分隔的數字做為其索引值:"
      ]
    },
    {
      "cell_type": "code",
      "execution_count": null,
      "metadata": {
        "id": "oeFDcMhf_xAA",
        "outputId": "f8c720e3-7a3b-49f8-95d5-f93f96a14af2",
        "colab": {
          "base_uri": "https://localhost:8080/"
        }
      },
      "outputs": [
        {
          "output_type": "execute_result",
          "data": {
            "text/plain": [
              "array([[3, 5, 2, 4],\n",
              "       [7, 6, 8, 8],\n",
              "       [1, 6, 7, 7]])"
            ]
          },
          "metadata": {},
          "execution_count": 7
        }
      ],
      "source": [
        "x2 # 3列row, 4欄column"
      ]
    },
    {
      "cell_type": "code",
      "execution_count": null,
      "metadata": {
        "id": "NVWjmhA6_xAB",
        "outputId": "b05175fc-8ee2-4e34-dfa7-77bdb5b6f56f",
        "colab": {
          "base_uri": "https://localhost:8080/"
        }
      },
      "outputs": [
        {
          "output_type": "execute_result",
          "data": {
            "text/plain": [
              "3"
            ]
          },
          "metadata": {},
          "execution_count": 8
        }
      ],
      "source": [
        "x2[0, 0]"
      ]
    },
    {
      "cell_type": "code",
      "execution_count": null,
      "metadata": {
        "id": "cQRTXby-_xAC",
        "outputId": "f5e221df-677e-4007-84eb-c40aea7da14c",
        "colab": {
          "base_uri": "https://localhost:8080/"
        }
      },
      "outputs": [
        {
          "output_type": "execute_result",
          "data": {
            "text/plain": [
              "1"
            ]
          },
          "metadata": {},
          "execution_count": 9
        }
      ],
      "source": [
        "x2[2, 0]"
      ]
    },
    {
      "cell_type": "code",
      "execution_count": null,
      "metadata": {
        "id": "6IVWj1gO_xAE",
        "outputId": "4b812839-449e-415b-c0b3-dcbc9f5098a7",
        "colab": {
          "base_uri": "https://localhost:8080/"
        }
      },
      "outputs": [
        {
          "output_type": "execute_result",
          "data": {
            "text/plain": [
              "7"
            ]
          },
          "metadata": {},
          "execution_count": 10
        }
      ],
      "source": [
        "x2[2, -1]"
      ]
    },
    {
      "cell_type": "code",
      "source": [
        "x2[0, -2]"
      ],
      "metadata": {
        "colab": {
          "base_uri": "https://localhost:8080/"
        },
        "id": "ErwZHxugVyqG",
        "outputId": "283f01db-2b3e-4c69-c7b9-24aef33db827"
      },
      "execution_count": null,
      "outputs": [
        {
          "output_type": "execute_result",
          "data": {
            "text/plain": [
              "2"
            ]
          },
          "metadata": {},
          "execution_count": 11
        }
      ]
    },
    {
      "cell_type": "markdown",
      "metadata": {
        "id": "YSRGLQFv_xAG"
      },
      "source": [
        "也可以使用之前的索引方式修改其中的資料值"
      ]
    },
    {
      "cell_type": "code",
      "execution_count": null,
      "metadata": {
        "id": "RiXhNfJZ_xAH",
        "outputId": "94bdb8da-249c-4cf1-a525-d15c9aef7f71",
        "colab": {
          "base_uri": "https://localhost:8080/"
        }
      },
      "outputs": [
        {
          "output_type": "execute_result",
          "data": {
            "text/plain": [
              "array([[12,  5,  2,  4],\n",
              "       [ 7,  6,  8,  8],\n",
              "       [ 1,  6,  7,  7]])"
            ]
          },
          "metadata": {},
          "execution_count": 12
        }
      ],
      "source": [
        "x2[0, 0] = 12\n",
        "x2"
      ]
    },
    {
      "cell_type": "code",
      "source": [
        "x2[1,3] = 33\n",
        "x2"
      ],
      "metadata": {
        "colab": {
          "base_uri": "https://localhost:8080/"
        },
        "id": "p7U5HNpJV79Z",
        "outputId": "53796567-d4ee-4f2a-c91f-15169da3c2c6"
      },
      "execution_count": null,
      "outputs": [
        {
          "output_type": "execute_result",
          "data": {
            "text/plain": [
              "array([[12,  5,  2,  4],\n",
              "       [ 7,  6,  8, 33],\n",
              "       [ 1,  6,  7,  7]])"
            ]
          },
          "metadata": {},
          "execution_count": 13
        }
      ]
    },
    {
      "cell_type": "markdown",
      "metadata": {
        "id": "teEfuAex_xAJ"
      },
      "source": [
        "提醒:Numpy的陣列元素都必須是固定且單一的型態。"
      ]
    },
    {
      "cell_type": "code",
      "execution_count": null,
      "metadata": {
        "id": "eeJdPSEO_xAJ",
        "outputId": "d9236d75-8a52-4f28-b202-6fce793e9af4",
        "colab": {
          "base_uri": "https://localhost:8080/"
        }
      },
      "outputs": [
        {
          "output_type": "execute_result",
          "data": {
            "text/plain": [
              "array([3, 0, 3, 3, 7, 9])"
            ]
          },
          "metadata": {},
          "execution_count": 14
        }
      ],
      "source": [
        "x1[0] = 3.14159  # 此數字的小數點會被裁掉\n",
        "x1"
      ]
    },
    {
      "cell_type": "markdown",
      "metadata": {
        "id": "BieiJ_Ql_xAK"
      },
      "source": [
        "## 陣列切片(Slicing): 存取子陣列"
      ]
    },
    {
      "cell_type": "markdown",
      "metadata": {
        "id": "Wfpyq8v9_xAL"
      },
      "source": [
        "可以再加上切片的符號(``:``)改為存取子陣列。\n",
        "Numpy slicing語法和在標準的Python list使用的語法一樣，存取陣列\n",
        "``x``的一個切片，可以使用如下的方式:\n",
        "``` python\n",
        "x[start:stop:step]\n",
        "```\n",
        "如果有任一個值沒有指定的話，則它們的預設值分別為 ``start=0``, ``stop=``*``陣列的大小``*, ``step=1``。\n"
      ]
    },
    {
      "cell_type": "markdown",
      "metadata": {
        "id": "QBDAf7fb_xAM"
      },
      "source": [
        "### 一維子陣列"
      ]
    },
    {
      "cell_type": "code",
      "execution_count": null,
      "metadata": {
        "id": "hNh2j_-Q_xAM",
        "outputId": "3396dd8e-8210-4843-be35-90134c109c17",
        "colab": {
          "base_uri": "https://localhost:8080/"
        }
      },
      "outputs": [
        {
          "output_type": "execute_result",
          "data": {
            "text/plain": [
              "array([0, 1, 2, 3, 4, 5, 6, 7, 8, 9])"
            ]
          },
          "metadata": {},
          "execution_count": 15
        }
      ],
      "source": [
        "x = np.arange(10) # 從0開始取10個數字\n",
        "x"
      ]
    },
    {
      "cell_type": "code",
      "execution_count": null,
      "metadata": {
        "id": "m_PtzlbI_xAN",
        "outputId": "9d03976b-24be-4498-c89b-f3d5089e7672",
        "colab": {
          "base_uri": "https://localhost:8080/"
        }
      },
      "outputs": [
        {
          "output_type": "execute_result",
          "data": {
            "text/plain": [
              "array([0, 1, 2, 3, 4])"
            ]
          },
          "metadata": {},
          "execution_count": 16
        }
      ],
      "source": [
        "x[:5]  # 前面5個元素，非取到位置為索引5的元素"
      ]
    },
    {
      "cell_type": "code",
      "execution_count": null,
      "metadata": {
        "id": "LqexcrWQ_xAP",
        "outputId": "82e7cf3b-f5b0-41cb-e6de-2f7684119e5a",
        "colab": {
          "base_uri": "https://localhost:8080/"
        }
      },
      "outputs": [
        {
          "output_type": "execute_result",
          "data": {
            "text/plain": [
              "array([5, 6, 7, 8, 9])"
            ]
          },
          "metadata": {},
          "execution_count": 17
        }
      ],
      "source": [
        "x[5:]  # 所有在索引值5之後的元素"
      ]
    },
    {
      "cell_type": "code",
      "execution_count": null,
      "metadata": {
        "id": "_R5HywjY_xAQ",
        "outputId": "a9be9cf0-f07c-41f3-d3c8-ac99cfc08848",
        "colab": {
          "base_uri": "https://localhost:8080/"
        }
      },
      "outputs": [
        {
          "output_type": "execute_result",
          "data": {
            "text/plain": [
              "array([4, 5, 6])"
            ]
          },
          "metadata": {},
          "execution_count": 18
        }
      ],
      "source": [
        "x[4:7]  # 中間的子陣列"
      ]
    },
    {
      "cell_type": "code",
      "source": [
        "x[1:6]"
      ],
      "metadata": {
        "colab": {
          "base_uri": "https://localhost:8080/"
        },
        "id": "Zt56tnpbXeyq",
        "outputId": "3c26f401-f0b5-4f9a-e342-ecfba276baa3"
      },
      "execution_count": null,
      "outputs": [
        {
          "output_type": "execute_result",
          "data": {
            "text/plain": [
              "array([1, 2, 3, 4, 5])"
            ]
          },
          "metadata": {},
          "execution_count": 19
        }
      ]
    },
    {
      "cell_type": "code",
      "execution_count": null,
      "metadata": {
        "id": "QQbJNBdP_xAQ",
        "outputId": "892f7bd0-bfb9-41f7-b932-13a39251d03c",
        "colab": {
          "base_uri": "https://localhost:8080/"
        }
      },
      "outputs": [
        {
          "output_type": "execute_result",
          "data": {
            "text/plain": [
              "array([0, 2, 4, 6, 8])"
            ]
          },
          "metadata": {},
          "execution_count": 20
        }
      ],
      "source": [
        "x[::2]  # 間隔2的所有元素"
      ]
    },
    {
      "cell_type": "code",
      "source": [
        "x[::6]"
      ],
      "metadata": {
        "colab": {
          "base_uri": "https://localhost:8080/"
        },
        "id": "lc2PRAhaXnJD",
        "outputId": "86e01c27-9866-470e-fd2c-1a9ee7b1466f"
      },
      "execution_count": null,
      "outputs": [
        {
          "output_type": "execute_result",
          "data": {
            "text/plain": [
              "array([0, 6])"
            ]
          },
          "metadata": {},
          "execution_count": 21
        }
      ]
    },
    {
      "cell_type": "code",
      "execution_count": null,
      "metadata": {
        "id": "AtFAPcnL_xAR",
        "outputId": "fc874d0d-e49e-4843-c227-df5956a6ffea",
        "colab": {
          "base_uri": "https://localhost:8080/"
        }
      },
      "outputs": [
        {
          "output_type": "execute_result",
          "data": {
            "text/plain": [
              "array([1, 3, 5, 7, 9])"
            ]
          },
          "metadata": {},
          "execution_count": 22
        }
      ],
      "source": [
        "x[1::2]  # 從索引值1開始間隔2的所有元素"
      ]
    },
    {
      "cell_type": "markdown",
      "metadata": {
        "id": "VcVP8qeh_xAS"
      },
      "source": [
        "當`step`為負值，`start`` and ``stop`的預設值彼此互換，下面也提供了一個反轉取得陣列的簡便方式:"
      ]
    },
    {
      "cell_type": "code",
      "execution_count": null,
      "metadata": {
        "id": "5Q8t3NJd_xAT",
        "outputId": "fea985e0-af1b-410b-d67d-42ac5aa96327",
        "colab": {
          "base_uri": "https://localhost:8080/"
        }
      },
      "outputs": [
        {
          "output_type": "execute_result",
          "data": {
            "text/plain": [
              "array([9, 8, 7, 6, 5, 4, 3, 2, 1, 0])"
            ]
          },
          "metadata": {},
          "execution_count": 23
        }
      ],
      "source": [
        "x[::-1]  # 反轉所有的元素"
      ]
    },
    {
      "cell_type": "code",
      "execution_count": null,
      "metadata": {
        "id": "LDR5gosj_xAU",
        "outputId": "1a3f0038-b7bf-4143-dcff-9cbedb554820",
        "colab": {
          "base_uri": "https://localhost:8080/"
        }
      },
      "outputs": [
        {
          "output_type": "execute_result",
          "data": {
            "text/plain": [
              "array([5, 3, 1])"
            ]
          },
          "metadata": {},
          "execution_count": 24
        }
      ],
      "source": [
        "x[5::-2]  # 從索引值5開始反轉往前取得間隔2的所有元素"
      ]
    },
    {
      "cell_type": "markdown",
      "metadata": {
        "id": "x0U7O_zN_xAV"
      },
      "source": [
        "### 多維子陣列\n",
        "\n",
        "只要使用逗號來區隔多個切片值的指定內容即可。"
      ]
    },
    {
      "cell_type": "code",
      "execution_count": null,
      "metadata": {
        "id": "CTHh6-iK_xAV",
        "outputId": "37ef49e6-7951-499e-8700-d0ffa0d1557f",
        "colab": {
          "base_uri": "https://localhost:8080/"
        }
      },
      "outputs": [
        {
          "output_type": "execute_result",
          "data": {
            "text/plain": [
              "array([[12,  5,  2,  4],\n",
              "       [ 7,  6,  8, 33],\n",
              "       [ 1,  6,  7,  7]])"
            ]
          },
          "metadata": {},
          "execution_count": 25
        }
      ],
      "source": [
        "x2"
      ]
    },
    {
      "cell_type": "code",
      "source": [
        "x2[1:3,2:4]"
      ],
      "metadata": {
        "colab": {
          "base_uri": "https://localhost:8080/"
        },
        "id": "JoHMlbofYHZM",
        "outputId": "56a64598-d9d7-4e5e-fc7a-7a234e34d629"
      },
      "execution_count": null,
      "outputs": [
        {
          "output_type": "execute_result",
          "data": {
            "text/plain": [
              "array([[ 8, 33],\n",
              "       [ 7,  7]])"
            ]
          },
          "metadata": {},
          "execution_count": 26
        }
      ]
    },
    {
      "cell_type": "code",
      "execution_count": null,
      "metadata": {
        "id": "zRZ342iD_xAW",
        "outputId": "0bcfa11c-d641-4b95-e7c7-e17d6df128cb",
        "colab": {
          "base_uri": "https://localhost:8080/"
        }
      },
      "outputs": [
        {
          "output_type": "execute_result",
          "data": {
            "text/plain": [
              "array([[12,  5,  2],\n",
              "       [ 7,  6,  8]])"
            ]
          },
          "metadata": {},
          "execution_count": 28
        }
      ],
      "source": [
        "x2[:2, :3]  # 從[0, 0]取2個列(row)和3個欄(column)"
      ]
    },
    {
      "cell_type": "code",
      "execution_count": null,
      "metadata": {
        "id": "mmFqwJ9D_xAX",
        "outputId": "6a978bbb-0a88-4fe6-91f6-097f41eb9b17",
        "colab": {
          "base_uri": "https://localhost:8080/"
        }
      },
      "outputs": [
        {
          "output_type": "execute_result",
          "data": {
            "text/plain": [
              "array([[12,  2],\n",
              "       [ 7,  8],\n",
              "       [ 1,  7]])"
            ]
          },
          "metadata": {},
          "execution_count": 29
        }
      ],
      "source": [
        "x2[:3, ::2]  # 所有列的偶數欄"
      ]
    },
    {
      "cell_type": "code",
      "source": [
        "x2[:3, ::-2]"
      ],
      "metadata": {
        "colab": {
          "base_uri": "https://localhost:8080/"
        },
        "id": "s9PycBfqY18K",
        "outputId": "0ec0cc52-0d1a-418a-8283-8efc7c6bcc44"
      },
      "execution_count": null,
      "outputs": [
        {
          "output_type": "execute_result",
          "data": {
            "text/plain": [
              "array([[ 4,  5],\n",
              "       [33,  6],\n",
              "       [ 7,  6]])"
            ]
          },
          "metadata": {},
          "execution_count": 30
        }
      ]
    },
    {
      "cell_type": "markdown",
      "metadata": {
        "id": "ZJQjlbbX_xAZ"
      },
      "source": [
        "子陣列的維度內容也可以一起反轉"
      ]
    },
    {
      "cell_type": "code",
      "execution_count": null,
      "metadata": {
        "id": "wUHLtFEF_xAa",
        "outputId": "4e45063c-1713-414e-9fb8-dffb15e84d1c",
        "colab": {
          "base_uri": "https://localhost:8080/"
        }
      },
      "outputs": [
        {
          "output_type": "execute_result",
          "data": {
            "text/plain": [
              "array([[ 7,  7,  6,  1],\n",
              "       [33,  8,  6,  7],\n",
              "       [ 4,  2,  5, 12]])"
            ]
          },
          "metadata": {},
          "execution_count": 31
        }
      ],
      "source": [
        "x2[::-1, ::-1]"
      ]
    },
    {
      "cell_type": "markdown",
      "metadata": {
        "id": "-XeVvn1X_xAa"
      },
      "source": [
        "#### 存取陣列的列和欄\n",
        "\n",
        "可以結合index和slicing的方式，使用一個單獨的冒號(``:``)標記為空切片:"
      ]
    },
    {
      "cell_type": "code",
      "execution_count": null,
      "metadata": {
        "id": "UgN7b63M_xAb",
        "outputId": "b3ff07e4-bfed-4b5c-d67d-c5c2b4fa3d75",
        "colab": {
          "base_uri": "https://localhost:8080/"
        }
      },
      "outputs": [
        {
          "output_type": "stream",
          "name": "stdout",
          "text": [
            "[12  7  1]\n"
          ]
        }
      ],
      "source": [
        "print(x2[:, 0])  # x2的第0欄"
      ]
    },
    {
      "cell_type": "code",
      "source": [
        "print(x2[:,3])"
      ],
      "metadata": {
        "colab": {
          "base_uri": "https://localhost:8080/"
        },
        "id": "iqRLAtEFbJVO",
        "outputId": "72c58143-d562-4eab-c73d-d30bfcfff3f3"
      },
      "execution_count": null,
      "outputs": [
        {
          "output_type": "stream",
          "name": "stdout",
          "text": [
            "[ 4 33  7]\n"
          ]
        }
      ]
    },
    {
      "cell_type": "code",
      "execution_count": null,
      "metadata": {
        "id": "m8kPsRek_xAc",
        "outputId": "c052de58-693c-4801-a433-67ac970584c2",
        "colab": {
          "base_uri": "https://localhost:8080/"
        }
      },
      "outputs": [
        {
          "output_type": "stream",
          "name": "stdout",
          "text": [
            "[12  5  2  4]\n"
          ]
        }
      ],
      "source": [
        "print(x2[0, :])  # x2的第0列"
      ]
    },
    {
      "cell_type": "code",
      "source": [
        "print(x2[0,1:4])"
      ],
      "metadata": {
        "colab": {
          "base_uri": "https://localhost:8080/"
        },
        "id": "Rzz7ue6Qb4BK",
        "outputId": "99b1e904-5168-4e6b-a02f-5abf42525634"
      },
      "execution_count": null,
      "outputs": [
        {
          "output_type": "stream",
          "name": "stdout",
          "text": [
            "[5 2 4]\n"
          ]
        }
      ]
    },
    {
      "cell_type": "markdown",
      "metadata": {
        "id": "_fPiM6dx_xAc"
      },
      "source": [
        "在列存取的例子中，代表空切片的冒號可以忽略，以讓語法更為精簡:"
      ]
    },
    {
      "cell_type": "code",
      "execution_count": null,
      "metadata": {
        "id": "W4Ks18pu_xAd",
        "outputId": "88776734-8be9-4a74-f626-d6a1513772bc",
        "colab": {
          "base_uri": "https://localhost:8080/"
        }
      },
      "outputs": [
        {
          "output_type": "stream",
          "name": "stdout",
          "text": [
            "[12  5  2  4]\n"
          ]
        }
      ],
      "source": [
        "print(x2[0])  # 相當於x2[0, :]"
      ]
    },
    {
      "cell_type": "markdown",
      "metadata": {
        "id": "IWhNooOd_xAe"
      },
      "source": [
        "### 子陣列是未複製的視圖\n",
        "\n",
        "在做陣列切片時所傳回的子陣列是*views(視圖)*，而非*copies(複製)*自該陣列的資料。\n",
        "\n",
        "這是Numpy在做陣列時不同於Python對於list slicing時的地方:\n",
        "在list中，slicing是以複製資料的方式完成。\n",
        "\n",
        "以下為之前的二維陣列:"
      ]
    },
    {
      "cell_type": "code",
      "execution_count": null,
      "metadata": {
        "id": "b0fZDXaL_xAf",
        "outputId": "36dcb2df-f9ea-49eb-e752-914aaeb98f7f",
        "colab": {
          "base_uri": "https://localhost:8080/"
        }
      },
      "outputs": [
        {
          "output_type": "stream",
          "name": "stdout",
          "text": [
            "[[12  5  2  4]\n",
            " [ 7  6  8 33]\n",
            " [ 1  6  7  7]]\n"
          ]
        }
      ],
      "source": [
        "print(x2)"
      ]
    },
    {
      "cell_type": "markdown",
      "metadata": {
        "id": "qwkljTJM_xAg"
      },
      "source": [
        "從中取出2x2的子陣列:"
      ]
    },
    {
      "cell_type": "code",
      "execution_count": null,
      "metadata": {
        "id": "vwqOcv_5_xAh",
        "outputId": "828adac0-b3c7-4007-9e54-006a2e0dc38f",
        "colab": {
          "base_uri": "https://localhost:8080/"
        }
      },
      "outputs": [
        {
          "output_type": "stream",
          "name": "stdout",
          "text": [
            "[[12  5]\n",
            " [ 7  6]]\n"
          ]
        }
      ],
      "source": [
        "x2_sub = x2[:2, :2]\n",
        "print(x2_sub)"
      ]
    },
    {
      "cell_type": "markdown",
      "metadata": {
        "id": "RyRWGjOg_xAh"
      },
      "source": [
        "如果要修改這個子陣列，可以看到原來的陣列會被改變:"
      ]
    },
    {
      "cell_type": "code",
      "execution_count": null,
      "metadata": {
        "id": "b6k95puN_xAi",
        "outputId": "5315fa92-0bcd-4378-cfe1-8e805542358d",
        "colab": {
          "base_uri": "https://localhost:8080/"
        }
      },
      "outputs": [
        {
          "output_type": "stream",
          "name": "stdout",
          "text": [
            "[[99  5]\n",
            " [ 7  6]]\n"
          ]
        }
      ],
      "source": [
        "x2_sub[0, 0] = 99\n",
        "print(x2_sub)"
      ]
    },
    {
      "cell_type": "code",
      "execution_count": null,
      "metadata": {
        "id": "Q3aFi4d1_xAj",
        "outputId": "78e2eb05-dc80-4fd0-ced2-b116a3048e43",
        "colab": {
          "base_uri": "https://localhost:8080/"
        }
      },
      "outputs": [
        {
          "output_type": "stream",
          "name": "stdout",
          "text": [
            "[[99  5  2  4]\n",
            " [ 7  6  8 33]\n",
            " [ 1  6  7  7]]\n"
          ]
        }
      ],
      "source": [
        "print(x2) #意思是改子陣列會把原本陣列的數字一起改掉，因為子陣列是原本陣列的一個view"
      ]
    },
    {
      "cell_type": "markdown",
      "metadata": {
        "id": "i--t-mRH_xAj"
      },
      "source": [
        "這個特性非常好用。\n",
        "在操作一個大的資料集時，可以存取這些資料集的部分內容而不需要去複製底下的資料緩衝。"
      ]
    },
    {
      "cell_type": "markdown",
      "metadata": {
        "id": "h7S0Qjbf_xAk"
      },
      "source": [
        "### 建立陣列的複本\n",
        "\n",
        "只用`copy()`就能簡單做到從陣列或子陣列中複製出資料。"
      ]
    },
    {
      "cell_type": "code",
      "execution_count": null,
      "metadata": {
        "id": "AndznjjV_xAk",
        "outputId": "77f63a2d-7c49-40c0-ae95-a38219ec5e68",
        "colab": {
          "base_uri": "https://localhost:8080/"
        }
      },
      "outputs": [
        {
          "output_type": "stream",
          "name": "stdout",
          "text": [
            "[[99  5]\n",
            " [ 7  6]]\n"
          ]
        }
      ],
      "source": [
        "x2_sub_copy = x2[:2, :2].copy()\n",
        "print(x2_sub_copy)"
      ]
    },
    {
      "cell_type": "markdown",
      "metadata": {
        "id": "paJmXhnr_xAl"
      },
      "source": [
        "如果現在修改子陣列的內容，原來的陣列就不會被動到了"
      ]
    },
    {
      "cell_type": "code",
      "execution_count": null,
      "metadata": {
        "id": "gFnBao7b_xAm",
        "outputId": "e00fb9e7-93d6-48f3-f0ca-801d9b87de1b",
        "colab": {
          "base_uri": "https://localhost:8080/"
        }
      },
      "outputs": [
        {
          "output_type": "stream",
          "name": "stdout",
          "text": [
            "[[42  5]\n",
            " [ 7  6]]\n"
          ]
        }
      ],
      "source": [
        "x2_sub_copy[0, 0] = 42\n",
        "print(x2_sub_copy)"
      ]
    },
    {
      "cell_type": "code",
      "execution_count": null,
      "metadata": {
        "id": "bl2r5cUz_xAm",
        "outputId": "de4880d2-d87f-4026-c15e-79b4512692a7",
        "colab": {
          "base_uri": "https://localhost:8080/"
        }
      },
      "outputs": [
        {
          "output_type": "stream",
          "name": "stdout",
          "text": [
            "[[99  5  2  4]\n",
            " [ 7  6  8 33]\n",
            " [ 1  6  7  7]]\n"
          ]
        }
      ],
      "source": [
        "print(x2)"
      ]
    },
    {
      "cell_type": "markdown",
      "metadata": {
        "id": "6aFMFB0j_xAn"
      },
      "source": [
        "## 陣列重塑(Reshape)\n",
        "\n"
      ]
    },
    {
      "cell_type": "code",
      "execution_count": null,
      "metadata": {
        "id": "0WA-ZaoA_xAp",
        "outputId": "5afc7749-22e8-48e6-9965-b60f25270e95",
        "colab": {
          "base_uri": "https://localhost:8080/"
        }
      },
      "outputs": [
        {
          "output_type": "stream",
          "name": "stdout",
          "text": [
            "[[1 2 3]\n",
            " [4 5 6]\n",
            " [7 8 9]]\n"
          ]
        }
      ],
      "source": [
        "grid = np.arange(1, 10).reshape((3, 3))\n",
        "print(grid)"
      ]
    },
    {
      "cell_type": "code",
      "source": [
        "grid_1 = np.arange(1, 13).reshape((2, 6))\n",
        "print(grid_1)"
      ],
      "metadata": {
        "id": "rcnF0pYabJCd",
        "outputId": "9010b6b4-444d-493f-869d-23288a2f2d90",
        "colab": {
          "base_uri": "https://localhost:8080/"
        }
      },
      "execution_count": null,
      "outputs": [
        {
          "output_type": "stream",
          "name": "stdout",
          "text": [
            "[[ 1  2  3  4  5  6]\n",
            " [ 7  8  9 10 11 12]]\n"
          ]
        }
      ]
    },
    {
      "cell_type": "markdown",
      "metadata": {
        "id": "lQvRZ3-C_xAq"
      },
      "source": [
        "另一個常見的重塑方法，是把一維陣列放進去一個二維陣列中當作是它的其中一列或一欄，此用法也可以透過reshpae方法做到"
      ]
    },
    {
      "cell_type": "code",
      "execution_count": null,
      "metadata": {
        "id": "bW-aHZNR_xAq",
        "outputId": "affc153d-b350-4ab2-e001-df1fdade816c",
        "colab": {
          "base_uri": "https://localhost:8080/"
        }
      },
      "outputs": [
        {
          "output_type": "execute_result",
          "data": {
            "text/plain": [
              "array([[1, 2, 3]])"
            ]
          },
          "metadata": {},
          "execution_count": 45
        }
      ],
      "source": [
        "x = np.array([1, 2, 3]) # 陣列\n",
        "\n",
        "# 透過reshape建立列向量(row vector)\n",
        "x.reshape((1, 3))"
      ]
    },
    {
      "cell_type": "code",
      "execution_count": null,
      "metadata": {
        "id": "Fw0nMvWV_xAs",
        "outputId": "e2b7d3f1-9f2e-48cb-f259-baf0fe545a91",
        "colab": {
          "base_uri": "https://localhost:8080/"
        }
      },
      "outputs": [
        {
          "output_type": "execute_result",
          "data": {
            "text/plain": [
              "array([[1],\n",
              "       [2],\n",
              "       [3]])"
            ]
          },
          "metadata": {},
          "execution_count": 46
        }
      ],
      "source": [
        "# 透過reshape建立欄向項(column vector)\n",
        "x.reshape((3, 1))"
      ]
    },
    {
      "cell_type": "code",
      "source": [
        "x2"
      ],
      "metadata": {
        "id": "UT3QVkYbdFeD",
        "outputId": "6f17113b-f0a3-4480-dbfd-8e2b40cce57f",
        "colab": {
          "base_uri": "https://localhost:8080/"
        }
      },
      "execution_count": null,
      "outputs": [
        {
          "output_type": "execute_result",
          "data": {
            "text/plain": [
              "array([[99,  5,  2,  4],\n",
              "       [ 7,  6,  8, 33],\n",
              "       [ 1,  6,  7,  7]])"
            ]
          },
          "metadata": {},
          "execution_count": 49
        }
      ]
    },
    {
      "cell_type": "code",
      "source": [
        "x2.reshape((2,6))"
      ],
      "metadata": {
        "id": "cyLQh6V2c-aw",
        "outputId": "61b1f440-ee0f-485d-d6b1-9a1cab83e1b8",
        "colab": {
          "base_uri": "https://localhost:8080/"
        }
      },
      "execution_count": null,
      "outputs": [
        {
          "output_type": "execute_result",
          "data": {
            "text/plain": [
              "array([[99,  5,  2,  4,  7,  6],\n",
              "       [ 8, 33,  1,  6,  7,  7]])"
            ]
          },
          "metadata": {},
          "execution_count": 48
        }
      ]
    },
    {
      "cell_type": "markdown",
      "metadata": {
        "id": "-Qc4Bslb_xAu"
      },
      "source": [
        "## 陣列的串接(Concatenation)和分割(Splitting)\n",
        "\n",
        "把多個陣列合併成一個，也可以將一個陣列分裂成多個陣列"
      ]
    },
    {
      "cell_type": "markdown",
      "metadata": {
        "id": "euaUWnSU_xAu"
      },
      "source": [
        "### 串接分割\n",
        "\n",
        "在Numpy中串接兩個陣列，主要是以`np.concatenate`, `np.vstack`, `np.hstack`這幾個程序完成。\n",
        "concatenate只能用在相同維度的合併"
      ]
    },
    {
      "cell_type": "code",
      "execution_count": null,
      "metadata": {
        "id": "FRk-eOF1_xAv",
        "outputId": "6af4afb9-edd0-4388-aaa0-7f2694aff676",
        "colab": {
          "base_uri": "https://localhost:8080/"
        }
      },
      "outputs": [
        {
          "output_type": "execute_result",
          "data": {
            "text/plain": [
              "array([1, 2, 3, 3, 2, 1])"
            ]
          },
          "metadata": {},
          "execution_count": 54
        }
      ],
      "source": [
        "x = np.array([1, 2, 3]) \n",
        "y = np.array([3, 2, 1])\n",
        "np.concatenate([x, y]) # 以前面的tuple或list當作是第一個參數"
      ]
    },
    {
      "cell_type": "code",
      "source": [
        "x1 = np.array([[1, 2, 3],[4, 9, 20]]) \n",
        "y1 = np.array([[3, 2, 1],[65, 32, 39]])\n",
        "np.concatenate([x1, y2]) # 以前面的tuple或list當作是第一個參數"
      ],
      "metadata": {
        "id": "iFJj7Q_Qdx5g",
        "outputId": "555443d6-4a31-4451-bc5e-70146614feef",
        "colab": {
          "base_uri": "https://localhost:8080/"
        }
      },
      "execution_count": null,
      "outputs": [
        {
          "output_type": "execute_result",
          "data": {
            "text/plain": [
              "array([[ 1,  2,  3],\n",
              "       [ 4,  9, 20],\n",
              "       [ 3,  2,  1],\n",
              "       [65, 32, 39]])"
            ]
          },
          "metadata": {},
          "execution_count": 62
        }
      ]
    },
    {
      "cell_type": "markdown",
      "metadata": {
        "id": "C20KG5T__xAw"
      },
      "source": [
        "也可以一次串接2個以上的陣列"
      ]
    },
    {
      "cell_type": "code",
      "execution_count": null,
      "metadata": {
        "id": "sIpP10yP_xAw",
        "outputId": "2b2d9ce2-92d6-4f88-fe37-80bbcb7713cc",
        "colab": {
          "base_uri": "https://localhost:8080/"
        }
      },
      "outputs": [
        {
          "output_type": "stream",
          "name": "stdout",
          "text": [
            "[ 1  2  3  3  2  1 99 99 99]\n"
          ]
        }
      ],
      "source": [
        "z = [99, 99, 99]\n",
        "print(np.concatenate([x, y, z]))"
      ]
    },
    {
      "cell_type": "markdown",
      "metadata": {
        "id": "tGnP1mfX_xAx"
      },
      "source": [
        "也可以串接二維陣列的串接上"
      ]
    },
    {
      "cell_type": "code",
      "execution_count": null,
      "metadata": {
        "id": "tGxAQvcJ_xAy"
      },
      "outputs": [],
      "source": [
        "grid = np.array([[1, 2, 3],\n",
        "          [4, 5, 6]])"
      ]
    },
    {
      "cell_type": "code",
      "execution_count": null,
      "metadata": {
        "id": "fwRbUpZd_xAy",
        "outputId": "9987d1f0-e697-44f8-be6c-c19176f8e748",
        "colab": {
          "base_uri": "https://localhost:8080/"
        }
      },
      "outputs": [
        {
          "output_type": "execute_result",
          "data": {
            "text/plain": [
              "array([[1, 2, 3],\n",
              "       [4, 5, 6],\n",
              "       [1, 2, 3],\n",
              "       [4, 5, 6]])"
            ]
          },
          "metadata": {},
          "execution_count": 57
        }
      ],
      "source": [
        "# 沿著第一軸串接\n",
        "np.concatenate([grid, grid])"
      ]
    },
    {
      "cell_type": "code",
      "execution_count": null,
      "metadata": {
        "id": "Wlid8ocf_xAz",
        "outputId": "37e5b8d4-1a6e-4081-ad6d-518e35d6dc0d",
        "colab": {
          "base_uri": "https://localhost:8080/"
        }
      },
      "outputs": [
        {
          "output_type": "execute_result",
          "data": {
            "text/plain": [
              "array([[1, 2, 3, 1, 2, 3],\n",
              "       [4, 5, 6, 4, 5, 6]])"
            ]
          },
          "metadata": {},
          "execution_count": 59
        }
      ],
      "source": [
        "# 沿著第二軸串接(zero-indexed)\n",
        "np.concatenate([grid, grid], axis=1)"
      ]
    },
    {
      "cell_type": "code",
      "source": [
        "np.concatenate([x1, y1], axis=1)"
      ],
      "metadata": {
        "id": "Mwsiftpdfh4D",
        "outputId": "47ca7f00-a029-440d-f4e1-d55167870086",
        "colab": {
          "base_uri": "https://localhost:8080/"
        }
      },
      "execution_count": null,
      "outputs": [
        {
          "output_type": "execute_result",
          "data": {
            "text/plain": [
              "array([[ 1,  2,  3,  3,  2,  1],\n",
              "       [ 4,  9, 20, 65, 32, 39]])"
            ]
          },
          "metadata": {},
          "execution_count": 63
        }
      ]
    },
    {
      "cell_type": "code",
      "source": [
        "x2 = np.array([99, 98, 97])\n",
        "x2"
      ],
      "metadata": {
        "id": "BMoBqirpgVxT",
        "outputId": "6e13e951-a031-4316-8e9e-43fdff13a247",
        "colab": {
          "base_uri": "https://localhost:8080/"
        }
      },
      "execution_count": null,
      "outputs": [
        {
          "output_type": "execute_result",
          "data": {
            "text/plain": [
              "array([99, 98, 97])"
            ]
          },
          "metadata": {},
          "execution_count": 67
        }
      ]
    },
    {
      "cell_type": "markdown",
      "metadata": {
        "id": "GJ0MG-Mk_xA0"
      },
      "source": [
        "若要在不同維度陣列間進行串接操作，使用`np.vstack` (垂直堆疊) and `np.hstack`(水平堆疊) v:vectical, h:horizontal"
      ]
    },
    {
      "cell_type": "code",
      "execution_count": null,
      "metadata": {
        "id": "k-jvo0FF_xA0",
        "outputId": "59101cf3-b3b6-4072-f831-b787d9d924ac",
        "colab": {
          "base_uri": "https://localhost:8080/"
        }
      },
      "outputs": [
        {
          "output_type": "execute_result",
          "data": {
            "text/plain": [
              "array([[1, 2, 3],\n",
              "       [9, 8, 7],\n",
              "       [6, 5, 4]])"
            ]
          },
          "metadata": {},
          "execution_count": 74
        }
      ],
      "source": [
        "x = np.array([1, 2, 3])\n",
        "grid = np.array([[9, 8, 7],\n",
        "          [6, 5, 4]])\n",
        "\n",
        "# 垂直堆疊在陣列上\n",
        "np.vstack([x, grid])"
      ]
    },
    {
      "cell_type": "code",
      "execution_count": null,
      "metadata": {
        "id": "2UbzuaZE_xA1",
        "outputId": "7ce123b7-5116-4c8a-f0ce-38e387980526",
        "colab": {
          "base_uri": "https://localhost:8080/"
        }
      },
      "outputs": [
        {
          "output_type": "execute_result",
          "data": {
            "text/plain": [
              "array([[ 9,  8,  7, 99],\n",
              "       [ 6,  5,  4, 99]])"
            ]
          },
          "metadata": {},
          "execution_count": 75
        }
      ],
      "source": [
        "# 水平堆疊在陣列上\n",
        "y = np.array([[99],\n",
        "              [99]])\n",
        "np.hstack([grid, y])"
      ]
    },
    {
      "cell_type": "code",
      "source": [
        "# 水平堆疊在陣列上\n",
        "y = np.array([[99],[99]])\n",
        "np.hstack([grid, y])"
      ],
      "metadata": {
        "id": "33D9zydDiV8_",
        "outputId": "8d9578e0-c0bb-459e-fd17-2bc21eb38fdf",
        "colab": {
          "base_uri": "https://localhost:8080/"
        }
      },
      "execution_count": null,
      "outputs": [
        {
          "output_type": "execute_result",
          "data": {
            "text/plain": [
              "array([[ 9,  8,  7, 99],\n",
              "       [ 6,  5,  4, 99]])"
            ]
          },
          "metadata": {},
          "execution_count": 76
        }
      ]
    },
    {
      "cell_type": "markdown",
      "metadata": {
        "id": "Hvh-0qJw_xA2"
      },
      "source": [
        "### 分割陣列\n",
        "\n",
        "分割常用`np.split`, `np.hsplit`, and `np.vsplit`。  \n",
        "這幾個函示可以透過一組陣列索引值的list來指定要分割的位置"
      ]
    },
    {
      "cell_type": "code",
      "execution_count": 11,
      "metadata": {
        "id": "6j8i78JX_xA3",
        "outputId": "24f215fe-f1ad-42e8-ea10-39d13441e59d",
        "colab": {
          "base_uri": "https://localhost:8080/"
        }
      },
      "outputs": [
        {
          "output_type": "stream",
          "name": "stdout",
          "text": [
            "[1 2 3] [99 99] [3 2 1]\n"
          ]
        }
      ],
      "source": [
        "x = [1, 2, 3, 99, 99, 3, 2, 1]\n",
        "x1, x2, x3 = np.split(x, [3, 5])\n",
        "print(x1, x2, x3)"
      ]
    },
    {
      "cell_type": "markdown",
      "metadata": {
        "id": "tAWFEAJm_xA3"
      },
      "source": [
        "N個分割的點會產生N+1個子陣列。\n",
        "`np.hsplit` and `np.vsplit`也是類似的原理"
      ]
    },
    {
      "cell_type": "code",
      "source": [
        "x = [1, 2, 3, 99, 99, 3, 2, 1]\n",
        "x1, x2, x3, x4 = np.split(x, [3, 5, 7])\n",
        "print(x1, x2, x3, x4)"
      ],
      "metadata": {
        "id": "rdgrIBMV-qF2",
        "outputId": "002baa64-6ac4-4a21-cfd3-54d658b8e0a9",
        "colab": {
          "base_uri": "https://localhost:8080/"
        }
      },
      "execution_count": 17,
      "outputs": [
        {
          "output_type": "stream",
          "name": "stdout",
          "text": [
            "[1 2 3] [99 99] [3 2] [1]\n"
          ]
        }
      ]
    },
    {
      "cell_type": "code",
      "execution_count": 19,
      "metadata": {
        "id": "mkC6g2Um_xA4",
        "outputId": "96eefa69-d600-4f59-b620-0d4aedbcc91c",
        "colab": {
          "base_uri": "https://localhost:8080/"
        }
      },
      "outputs": [
        {
          "output_type": "execute_result",
          "data": {
            "text/plain": [
              "array([[ 0,  1,  2,  3],\n",
              "       [ 4,  5,  6,  7],\n",
              "       [ 8,  9, 10, 11],\n",
              "       [12, 13, 14, 15]])"
            ]
          },
          "metadata": {},
          "execution_count": 19
        }
      ],
      "source": [
        "grid = np.arange(16).reshape((4, 4))\n",
        "grid"
      ]
    },
    {
      "cell_type": "code",
      "execution_count": 20,
      "metadata": {
        "id": "esIk0Xmt_xA5",
        "outputId": "dd92354a-2c8f-47d5-c34b-f93fc1411f69",
        "colab": {
          "base_uri": "https://localhost:8080/"
        }
      },
      "outputs": [
        {
          "output_type": "stream",
          "name": "stdout",
          "text": [
            "[[0 1 2 3]\n",
            " [4 5 6 7]]\n",
            "[[ 8  9 10 11]\n",
            " [12 13 14 15]]\n"
          ]
        }
      ],
      "source": [
        "upper, lower = np.vsplit(grid, [2])\n",
        "print(upper)\n",
        "print(lower)"
      ]
    },
    {
      "cell_type": "code",
      "source": [
        "upper1, lower1 = np.vsplit(grid, [1])\n",
        "print(upper1)\n",
        "print(lower1)"
      ],
      "metadata": {
        "id": "_yfPqStf_oAe",
        "outputId": "69471223-df6f-4962-fe4d-59ddfe09ad92",
        "colab": {
          "base_uri": "https://localhost:8080/"
        }
      },
      "execution_count": 21,
      "outputs": [
        {
          "output_type": "stream",
          "name": "stdout",
          "text": [
            "[[0 1 2 3]]\n",
            "[[ 4  5  6  7]\n",
            " [ 8  9 10 11]\n",
            " [12 13 14 15]]\n"
          ]
        }
      ]
    },
    {
      "cell_type": "code",
      "execution_count": 22,
      "metadata": {
        "id": "yloegfdL_xA6",
        "outputId": "f9b54af5-35ac-43c7-ab25-e539ac6bf970",
        "colab": {
          "base_uri": "https://localhost:8080/"
        }
      },
      "outputs": [
        {
          "output_type": "stream",
          "name": "stdout",
          "text": [
            "[[ 0  1]\n",
            " [ 4  5]\n",
            " [ 8  9]\n",
            " [12 13]]\n",
            "[[ 2  3]\n",
            " [ 6  7]\n",
            " [10 11]\n",
            " [14 15]]\n"
          ]
        }
      ],
      "source": [
        "left, right = np.hsplit(grid, [2])\n",
        "print(left)\n",
        "print(right)"
      ]
    },
    {
      "cell_type": "markdown",
      "metadata": {
        "id": "5mRawJwk_xA7"
      },
      "source": [
        "<!--NAVIGATION-->\n",
        "< [Understanding Data Types in Python](02.01-Understanding-Data-Types.ipynb) | [Contents](Index.ipynb) | [Computation on NumPy Arrays: Universal Functions](02.03-Computation-on-arrays-ufuncs.ipynb) >\n",
        "\n",
        "<a href=\"https://colab.research.google.com/github/jakevdp/PythonDataScienceHandbook/blob/master/notebooks/02.02-The-Basics-Of-NumPy-Arrays.ipynb\"><img align=\"left\" src=\"https://colab.research.google.com/assets/colab-badge.svg\" alt=\"Open in Colab\" title=\"Open and Execute in Google Colaboratory\"></a>\n"
      ]
    }
  ],
  "metadata": {
    "anaconda-cloud": {},
    "kernelspec": {
      "display_name": "Python 3",
      "language": "python",
      "name": "python3"
    },
    "language_info": {
      "codemirror_mode": {
        "name": "ipython",
        "version": 3
      },
      "file_extension": ".py",
      "mimetype": "text/x-python",
      "name": "python",
      "nbconvert_exporter": "python",
      "pygments_lexer": "ipython3",
      "version": "3.5.1"
    },
    "colab": {
      "name": "02_02_The Basics of NumPy Arrays (Numpy陣列基礎).ipynb",
      "provenance": [],
      "toc_visible": true
    }
  },
  "nbformat": 4,
  "nbformat_minor": 0
}