{
  "cells": [
    {
      "cell_type": "markdown",
      "metadata": {
        "id": "aZPVF6BC_w-5"
      },
      "source": [
        "<!--BOOK_INFORMATION-->\n",
        "<img align=\"left\" style=\"padding-right:10px;\" src=\"https://github.com/jakevdp/PythonDataScienceHandbook/blob/master/notebooks/figures/PDSH-cover-small.png?raw=1\">\n",
        "\n",
        "*This notebook contains an excerpt from the [Python Data Science Handbook](http://shop.oreilly.com/product/0636920034919.do) by Jake VanderPlas; the content is available [on GitHub](https://github.com/jakevdp/PythonDataScienceHandbook).*\n",
        "\n",
        "*The text is released under the [CC-BY-NC-ND license](https://creativecommons.org/licenses/by-nc-nd/3.0/us/legalcode), and code is released under the [MIT license](https://opensource.org/licenses/MIT). If you find this content useful, please consider supporting the work by [buying the book](http://shop.oreilly.com/product/0636920034919.do)!*"
      ]
    },
    {
      "cell_type": "markdown",
      "metadata": {
        "id": "pOL4qGHt_w_J"
      },
      "source": [
        "<!--NAVIGATION-->\n",
        "< [Understanding Data Types in Python](02.01-Understanding-Data-Types.ipynb) | [Contents](Index.ipynb) | [Computation on NumPy Arrays: Universal Functions](02.03-Computation-on-arrays-ufuncs.ipynb) >\n",
        "\n",
        "<a href=\"https://colab.research.google.com/github/jakevdp/PythonDataScienceHandbook/blob/master/notebooks/02.02-The-Basics-Of-NumPy-Arrays.ipynb\"><img align=\"left\" src=\"https://colab.research.google.com/assets/colab-badge.svg\" alt=\"Open in Colab\" title=\"Open and Execute in Google Colaboratory\"></a>\n"
      ]
    },
    {
      "cell_type": "markdown",
      "metadata": {
        "id": "EbcUES5A_w_N"
      },
      "source": [
        "# Numpy陣列(Array)基礎"
      ]
    },
    {
      "cell_type": "markdown",
      "metadata": {
        "id": "ZD_e4FAX_w_S"
      },
      "source": [
        "## Numpy陣列屬性"
      ]
    },
    {
      "cell_type": "code",
      "execution_count": 3,
      "metadata": {
        "id": "daSVmoBQ_w_Y",
        "colab": {
          "base_uri": "https://localhost:8080/"
        },
        "outputId": "106f4e8e-29aa-439c-ba4a-29199442e592"
      },
      "outputs": [
        {
          "output_type": "execute_result",
          "data": {
            "text/plain": [
              "array([[[8, 1, 5, 9, 8],\n",
              "        [9, 4, 3, 0, 3],\n",
              "        [5, 0, 2, 3, 8],\n",
              "        [1, 3, 3, 3, 7]],\n",
              "\n",
              "       [[0, 1, 9, 9, 0],\n",
              "        [4, 7, 3, 2, 7],\n",
              "        [2, 0, 0, 4, 5],\n",
              "        [5, 6, 8, 4, 1]],\n",
              "\n",
              "       [[4, 9, 8, 1, 1],\n",
              "        [7, 9, 9, 3, 6],\n",
              "        [7, 2, 0, 3, 5],\n",
              "        [9, 4, 4, 6, 4]]])"
            ]
          },
          "metadata": {},
          "execution_count": 3
        }
      ],
      "source": [
        "import numpy as np\n",
        "np.random.seed(0)  # 指定一個種子值確保每次執行時均產生同樣的亂數(希望有再現性)\n",
        "           # seed裡面的數字代表哪一組\n",
        "\n",
        "x1 = np.random.randint(10, size=6)  # 一維陣列\n",
        "x2 = np.random.randint(10, size=(3, 4))  # 二維陣列\n",
        "x3 = np.random.randint(10, size=(3, 4, 5))  # 三維陣列\n",
        "\n",
        "x3"
      ]
    },
    {
      "cell_type": "code",
      "source": [
        "np.random.seed(1)\n",
        "y1 = np.random.normal(0, 2, (4,4))\n",
        "y1"
      ],
      "metadata": {
        "colab": {
          "base_uri": "https://localhost:8080/"
        },
        "id": "XoFVJLmNSq3n",
        "outputId": "776f87a6-b05f-4dfa-a7e8-5f70b48828c0"
      },
      "execution_count": 25,
      "outputs": [
        {
          "output_type": "execute_result",
          "data": {
            "text/plain": [
              "array([[ 3.24869073, -1.22351283, -1.0563435 , -2.14593724],\n",
              "       [ 1.73081526, -4.60307739,  3.48962353, -1.5224138 ],\n",
              "       [ 0.63807819, -0.49874075,  2.92421587, -4.12028142],\n",
              "       [-0.64483441, -0.76810871,  2.26753888, -2.19978253]])"
            ]
          },
          "metadata": {},
          "execution_count": 25
        }
      ]
    },
    {
      "cell_type": "code",
      "source": [
        "np.random.seed(2)\n",
        "y1 = np.random.normal(0, 2, (4,4))\n",
        "y1"
      ],
      "metadata": {
        "colab": {
          "base_uri": "https://localhost:8080/"
        },
        "id": "nzRLUj6kS4Rm",
        "outputId": "03831d7c-c884-4810-b118-79b190db4f01"
      },
      "execution_count": 26,
      "outputs": [
        {
          "output_type": "execute_result",
          "data": {
            "text/plain": [
              "array([[-0.83351569, -0.11253365, -4.27239219,  3.28054162],\n",
              "       [-3.58687117, -1.68349473,  1.00576283, -2.49057617],\n",
              "       [-2.11590444, -1.81801523,  1.10290809,  4.58441603],\n",
              "       [ 0.08307879, -2.23585089,  1.07811664, -1.1923194 ]])"
            ]
          },
          "metadata": {},
          "execution_count": 26
        }
      ]
    },
    {
      "cell_type": "code",
      "source": [
        "np.random.seed(1)\n",
        "y1 = np.random.normal(0, 2, (4,4))\n",
        "y1"
      ],
      "metadata": {
        "colab": {
          "base_uri": "https://localhost:8080/"
        },
        "id": "G6jLYSfGS7hQ",
        "outputId": "19afd3bd-1775-400a-c4f7-a00e40bdd00b"
      },
      "execution_count": 27,
      "outputs": [
        {
          "output_type": "execute_result",
          "data": {
            "text/plain": [
              "array([[ 3.24869073, -1.22351283, -1.0563435 , -2.14593724],\n",
              "       [ 1.73081526, -4.60307739,  3.48962353, -1.5224138 ],\n",
              "       [ 0.63807819, -0.49874075,  2.92421587, -4.12028142],\n",
              "       [-0.64483441, -0.76810871,  2.26753888, -2.19978253]])"
            ]
          },
          "metadata": {},
          "execution_count": 27
        }
      ]
    },
    {
      "cell_type": "markdown",
      "metadata": {
        "id": "ns4cUMHs_w_e"
      },
      "source": [
        "每一個陣列分別有 ``ndim`` (維度數量), ``shape`` (每一個維度的大小), and ``size`` (整個陣列的總大小):"
      ]
    },
    {
      "cell_type": "code",
      "execution_count": 28,
      "metadata": {
        "id": "GjZE5Z7I_w_o",
        "outputId": "b1a0c6e8-4a2e-4fb8-bb15-ca54fb57a19d",
        "colab": {
          "base_uri": "https://localhost:8080/"
        }
      },
      "outputs": [
        {
          "output_type": "stream",
          "name": "stdout",
          "text": [
            "x3 ndim:  3\n",
            "x3 shape: (3, 4, 5)\n",
            "x3 size:  60\n"
          ]
        }
      ],
      "source": [
        "print(\"x3 ndim: \", x3.ndim)\n",
        "print(\"x3 shape:\", x3.shape)\n",
        "print(\"x3 size: \", x3.size)"
      ]
    },
    {
      "cell_type": "code",
      "source": [
        "print(y1.ndim) #維度為2是因為y1為常態分佈，只有x和y\n",
        "print(y1.shape)\n",
        "print(y1.size)"
      ],
      "metadata": {
        "colab": {
          "base_uri": "https://localhost:8080/"
        },
        "id": "DUXGjrknTEOv",
        "outputId": "963228fd-e44c-4a10-b23d-570b682d68e1"
      },
      "execution_count": 31,
      "outputs": [
        {
          "output_type": "stream",
          "name": "stdout",
          "text": [
            "2\n",
            "(4, 4)\n",
            "16\n"
          ]
        }
      ]
    },
    {
      "cell_type": "markdown",
      "metadata": {
        "id": "nYA4oDAp_w_t"
      },
      "source": [
        "另一個有用的屬性是 ``dtype``, 也就是陣列的資料型態"
      ]
    },
    {
      "cell_type": "code",
      "execution_count": 32,
      "metadata": {
        "id": "BGP4QKr6_w_v",
        "outputId": "adb71766-a610-47a9-ad01-4104f8aa94e0",
        "colab": {
          "base_uri": "https://localhost:8080/"
        }
      },
      "outputs": [
        {
          "output_type": "stream",
          "name": "stdout",
          "text": [
            "dtype: int64\n"
          ]
        }
      ],
      "source": [
        "print(\"dtype:\", x3.dtype)"
      ]
    },
    {
      "cell_type": "code",
      "source": [
        "print(y1.dtype)"
      ],
      "metadata": {
        "colab": {
          "base_uri": "https://localhost:8080/"
        },
        "id": "O1wOIeKrTnbv",
        "outputId": "3881b822-b988-4dc8-a7a3-fbc6e469494c"
      },
      "execution_count": 33,
      "outputs": [
        {
          "output_type": "stream",
          "name": "stdout",
          "text": [
            "float64\n"
          ]
        }
      ]
    },
    {
      "cell_type": "markdown",
      "metadata": {
        "id": "Q1YzSpjV_w_1"
      },
      "source": [
        "## 陣列索引(Index):存取單一個陣列元素"
      ]
    },
    {
      "cell_type": "markdown",
      "metadata": {
        "id": "0WklSSyX_w_2"
      },
      "source": [
        "在單一陣列中，可以在中括號中指定想要的索引，以存取到第i個值(從0開始算)\n",
        "\n",
        "看到索引值，就要想到位置"
      ]
    },
    {
      "cell_type": "code",
      "execution_count": 35,
      "metadata": {
        "id": "xIr-Y2LD_w_3",
        "outputId": "567621b6-0bb8-4dc9-8102-721dd0db0eda",
        "colab": {
          "base_uri": "https://localhost:8080/"
        }
      },
      "outputs": [
        {
          "output_type": "execute_result",
          "data": {
            "text/plain": [
              "array([5, 0, 3, 3, 7, 9])"
            ]
          },
          "metadata": {},
          "execution_count": 35
        }
      ],
      "source": [
        "x1"
      ]
    },
    {
      "cell_type": "code",
      "execution_count": 36,
      "metadata": {
        "id": "P5ADxCF5_w_5",
        "outputId": "f82e4a99-33aa-42b3-90f6-8b9c9495578e",
        "colab": {
          "base_uri": "https://localhost:8080/"
        }
      },
      "outputs": [
        {
          "output_type": "execute_result",
          "data": {
            "text/plain": [
              "5"
            ]
          },
          "metadata": {},
          "execution_count": 36
        }
      ],
      "source": [
        "x1[0]"
      ]
    },
    {
      "cell_type": "code",
      "execution_count": 37,
      "metadata": {
        "id": "WGXHedlv_w_6",
        "outputId": "b729e6cf-df62-4605-f28f-087be70edae3",
        "colab": {
          "base_uri": "https://localhost:8080/"
        }
      },
      "outputs": [
        {
          "output_type": "execute_result",
          "data": {
            "text/plain": [
              "7"
            ]
          },
          "metadata": {},
          "execution_count": 37
        }
      ],
      "source": [
        "x1[4]"
      ]
    },
    {
      "cell_type": "markdown",
      "metadata": {
        "id": "BA7c7eUH_w_7"
      },
      "source": [
        "也可以使用負數，從陣列末尾推算回來:"
      ]
    },
    {
      "cell_type": "code",
      "execution_count": 38,
      "metadata": {
        "id": "bTyy88tC_w_8",
        "outputId": "be96c0d9-7835-464e-e559-9ef9598b71e9",
        "colab": {
          "base_uri": "https://localhost:8080/"
        }
      },
      "outputs": [
        {
          "output_type": "execute_result",
          "data": {
            "text/plain": [
              "9"
            ]
          },
          "metadata": {},
          "execution_count": 38
        }
      ],
      "source": [
        "x1[-1]"
      ]
    },
    {
      "cell_type": "code",
      "execution_count": 39,
      "metadata": {
        "id": "MppX-IJD_w_9",
        "outputId": "4afca5cd-54de-4a42-bab8-dae3bc8e93f1",
        "colab": {
          "base_uri": "https://localhost:8080/"
        }
      },
      "outputs": [
        {
          "output_type": "execute_result",
          "data": {
            "text/plain": [
              "7"
            ]
          },
          "metadata": {},
          "execution_count": 39
        }
      ],
      "source": [
        "x1[-2]"
      ]
    },
    {
      "cell_type": "markdown",
      "metadata": {
        "id": "aTfAcGAK_w_-"
      },
      "source": [
        "在多維陣列中，可以使用以半形逗號分隔的數字做為其索引值:"
      ]
    },
    {
      "cell_type": "code",
      "execution_count": 40,
      "metadata": {
        "id": "oeFDcMhf_xAA",
        "outputId": "98436e11-21fb-4bcb-91be-2a1ef898c9cf",
        "colab": {
          "base_uri": "https://localhost:8080/"
        }
      },
      "outputs": [
        {
          "output_type": "execute_result",
          "data": {
            "text/plain": [
              "array([[3, 5, 2, 4],\n",
              "       [7, 6, 8, 8],\n",
              "       [1, 6, 7, 7]])"
            ]
          },
          "metadata": {},
          "execution_count": 40
        }
      ],
      "source": [
        "x2 # 3列row, 4欄column"
      ]
    },
    {
      "cell_type": "code",
      "execution_count": 41,
      "metadata": {
        "id": "NVWjmhA6_xAB",
        "outputId": "c1f95621-f6a0-440e-ddcb-f181f353f7cc",
        "colab": {
          "base_uri": "https://localhost:8080/"
        }
      },
      "outputs": [
        {
          "output_type": "execute_result",
          "data": {
            "text/plain": [
              "3"
            ]
          },
          "metadata": {},
          "execution_count": 41
        }
      ],
      "source": [
        "x2[0, 0]"
      ]
    },
    {
      "cell_type": "code",
      "execution_count": 42,
      "metadata": {
        "id": "cQRTXby-_xAC",
        "outputId": "bd5ae5ab-a469-4720-c791-0f456ab9eb90",
        "colab": {
          "base_uri": "https://localhost:8080/"
        }
      },
      "outputs": [
        {
          "output_type": "execute_result",
          "data": {
            "text/plain": [
              "1"
            ]
          },
          "metadata": {},
          "execution_count": 42
        }
      ],
      "source": [
        "x2[2, 0]"
      ]
    },
    {
      "cell_type": "code",
      "execution_count": 43,
      "metadata": {
        "id": "6IVWj1gO_xAE",
        "outputId": "382425d0-89e3-49e9-92e9-c5147a436db2",
        "colab": {
          "base_uri": "https://localhost:8080/"
        }
      },
      "outputs": [
        {
          "output_type": "execute_result",
          "data": {
            "text/plain": [
              "7"
            ]
          },
          "metadata": {},
          "execution_count": 43
        }
      ],
      "source": [
        "x2[2, -1]"
      ]
    },
    {
      "cell_type": "code",
      "source": [
        "x2[0, -2]"
      ],
      "metadata": {
        "colab": {
          "base_uri": "https://localhost:8080/"
        },
        "id": "ErwZHxugVyqG",
        "outputId": "04b743de-47f4-4546-fca7-70f0500801c7"
      },
      "execution_count": 44,
      "outputs": [
        {
          "output_type": "execute_result",
          "data": {
            "text/plain": [
              "2"
            ]
          },
          "metadata": {},
          "execution_count": 44
        }
      ]
    },
    {
      "cell_type": "markdown",
      "metadata": {
        "id": "YSRGLQFv_xAG"
      },
      "source": [
        "也可以使用之前的索引方式修改其中的資料值"
      ]
    },
    {
      "cell_type": "code",
      "execution_count": 45,
      "metadata": {
        "id": "RiXhNfJZ_xAH",
        "outputId": "54f879df-547f-46ca-9c8c-08a7d51592f4",
        "colab": {
          "base_uri": "https://localhost:8080/"
        }
      },
      "outputs": [
        {
          "output_type": "execute_result",
          "data": {
            "text/plain": [
              "array([[12,  5,  2,  4],\n",
              "       [ 7,  6,  8,  8],\n",
              "       [ 1,  6,  7,  7]])"
            ]
          },
          "metadata": {},
          "execution_count": 45
        }
      ],
      "source": [
        "x2[0, 0] = 12\n",
        "x2"
      ]
    },
    {
      "cell_type": "code",
      "source": [
        "x2[1,3] = 33\n",
        "x2"
      ],
      "metadata": {
        "colab": {
          "base_uri": "https://localhost:8080/"
        },
        "id": "p7U5HNpJV79Z",
        "outputId": "a6ae1990-9c1d-4c10-f900-b28d71e0d2b1"
      },
      "execution_count": 47,
      "outputs": [
        {
          "output_type": "execute_result",
          "data": {
            "text/plain": [
              "array([[12,  5,  2,  4],\n",
              "       [ 7,  6,  8, 33],\n",
              "       [ 1,  6,  7,  7]])"
            ]
          },
          "metadata": {},
          "execution_count": 47
        }
      ]
    },
    {
      "cell_type": "markdown",
      "metadata": {
        "id": "teEfuAex_xAJ"
      },
      "source": [
        "提醒:Numpy的陣列元素都必須是固定且單一的型態。"
      ]
    },
    {
      "cell_type": "code",
      "execution_count": null,
      "metadata": {
        "id": "eeJdPSEO_xAJ",
        "outputId": "00eedab4-1c32-442e-b51d-15a91fe510f0"
      },
      "outputs": [
        {
          "data": {
            "text/plain": [
              "array([3, 0, 3, 3, 7, 9])"
            ]
          },
          "execution_count": 15,
          "metadata": {},
          "output_type": "execute_result"
        }
      ],
      "source": [
        "x1[0] = 3.14159  # 此數字的小數點會被裁掉\n",
        "x1"
      ]
    },
    {
      "cell_type": "markdown",
      "metadata": {
        "id": "BieiJ_Ql_xAK"
      },
      "source": [
        "## 陣列切片(Slicing): 存取子陣列"
      ]
    },
    {
      "cell_type": "markdown",
      "metadata": {
        "id": "Wfpyq8v9_xAL"
      },
      "source": [
        "可以再加上切片的符號(``:``)改為存取子陣列。\n",
        "Numpy slicing語法和在標準的Python list使用的語法一樣，存取陣列\n",
        "``x``的一個切片，可以使用如下的方式:\n",
        "``` python\n",
        "x[start:stop:step]\n",
        "```\n",
        "如果有任一個值沒有指定的話，則它們的預設值分別為 ``start=0``, ``stop=``*``陣列的大小``*, ``step=1``。\n"
      ]
    },
    {
      "cell_type": "markdown",
      "metadata": {
        "id": "QBDAf7fb_xAM"
      },
      "source": [
        "### 一維子陣列"
      ]
    },
    {
      "cell_type": "code",
      "execution_count": 48,
      "metadata": {
        "id": "hNh2j_-Q_xAM",
        "outputId": "e512e3d4-6e23-4696-c71c-bc8f0a8a3056",
        "colab": {
          "base_uri": "https://localhost:8080/"
        }
      },
      "outputs": [
        {
          "output_type": "execute_result",
          "data": {
            "text/plain": [
              "array([0, 1, 2, 3, 4, 5, 6, 7, 8, 9])"
            ]
          },
          "metadata": {},
          "execution_count": 48
        }
      ],
      "source": [
        "x = np.arange(10) # 從0開始取10個數字\n",
        "x"
      ]
    },
    {
      "cell_type": "code",
      "execution_count": 49,
      "metadata": {
        "id": "m_PtzlbI_xAN",
        "outputId": "2688984a-76d2-4ed9-8cd5-e46f394814d8",
        "colab": {
          "base_uri": "https://localhost:8080/"
        }
      },
      "outputs": [
        {
          "output_type": "execute_result",
          "data": {
            "text/plain": [
              "array([0, 1, 2, 3, 4])"
            ]
          },
          "metadata": {},
          "execution_count": 49
        }
      ],
      "source": [
        "x[:5]  # 前面5個元素，非取到位置為索引5的元素"
      ]
    },
    {
      "cell_type": "code",
      "execution_count": 50,
      "metadata": {
        "id": "LqexcrWQ_xAP",
        "outputId": "c3564830-5053-4ad9-f7c4-36e41bba289c",
        "colab": {
          "base_uri": "https://localhost:8080/"
        }
      },
      "outputs": [
        {
          "output_type": "execute_result",
          "data": {
            "text/plain": [
              "array([5, 6, 7, 8, 9])"
            ]
          },
          "metadata": {},
          "execution_count": 50
        }
      ],
      "source": [
        "x[5:]  # 所有在索引值5之後的元素"
      ]
    },
    {
      "cell_type": "code",
      "execution_count": 51,
      "metadata": {
        "id": "_R5HywjY_xAQ",
        "outputId": "bcb5b77c-0d83-442b-9174-94351a400c55",
        "colab": {
          "base_uri": "https://localhost:8080/"
        }
      },
      "outputs": [
        {
          "output_type": "execute_result",
          "data": {
            "text/plain": [
              "array([4, 5, 6])"
            ]
          },
          "metadata": {},
          "execution_count": 51
        }
      ],
      "source": [
        "x[4:7]  # 中間的子陣列"
      ]
    },
    {
      "cell_type": "code",
      "source": [
        "x[1:6]"
      ],
      "metadata": {
        "colab": {
          "base_uri": "https://localhost:8080/"
        },
        "id": "Zt56tnpbXeyq",
        "outputId": "47cb1924-08b5-403d-b539-7e8ca501911e"
      },
      "execution_count": 53,
      "outputs": [
        {
          "output_type": "execute_result",
          "data": {
            "text/plain": [
              "array([1, 2, 3, 4, 5])"
            ]
          },
          "metadata": {},
          "execution_count": 53
        }
      ]
    },
    {
      "cell_type": "code",
      "execution_count": 54,
      "metadata": {
        "id": "QQbJNBdP_xAQ",
        "outputId": "463eba94-96d2-4c12-d548-58dfe0d1147e",
        "colab": {
          "base_uri": "https://localhost:8080/"
        }
      },
      "outputs": [
        {
          "output_type": "execute_result",
          "data": {
            "text/plain": [
              "array([0, 2, 4, 6, 8])"
            ]
          },
          "metadata": {},
          "execution_count": 54
        }
      ],
      "source": [
        "x[::2]  # 間隔2的所有元素"
      ]
    },
    {
      "cell_type": "code",
      "source": [
        "x[::6]"
      ],
      "metadata": {
        "colab": {
          "base_uri": "https://localhost:8080/"
        },
        "id": "lc2PRAhaXnJD",
        "outputId": "af2d8b95-64b5-4ef9-926e-81cbe2c123b0"
      },
      "execution_count": 55,
      "outputs": [
        {
          "output_type": "execute_result",
          "data": {
            "text/plain": [
              "array([0, 6])"
            ]
          },
          "metadata": {},
          "execution_count": 55
        }
      ]
    },
    {
      "cell_type": "code",
      "execution_count": 56,
      "metadata": {
        "id": "AtFAPcnL_xAR",
        "outputId": "a5f93055-d9a7-4fbe-c6bf-c986f8a81c23",
        "colab": {
          "base_uri": "https://localhost:8080/"
        }
      },
      "outputs": [
        {
          "output_type": "execute_result",
          "data": {
            "text/plain": [
              "array([1, 3, 5, 7, 9])"
            ]
          },
          "metadata": {},
          "execution_count": 56
        }
      ],
      "source": [
        "x[1::2]  # 從索引值1開始間隔2的所有元素"
      ]
    },
    {
      "cell_type": "markdown",
      "metadata": {
        "id": "VcVP8qeh_xAS"
      },
      "source": [
        "當`step`為負值，`start`` and ``stop`的預設值彼此互換，下面也提供了一個反轉取得陣列的簡便方式:"
      ]
    },
    {
      "cell_type": "code",
      "execution_count": 57,
      "metadata": {
        "id": "5Q8t3NJd_xAT",
        "outputId": "abb0ec23-a0da-4430-ac65-69be427b4eaf",
        "colab": {
          "base_uri": "https://localhost:8080/"
        }
      },
      "outputs": [
        {
          "output_type": "execute_result",
          "data": {
            "text/plain": [
              "array([9, 8, 7, 6, 5, 4, 3, 2, 1, 0])"
            ]
          },
          "metadata": {},
          "execution_count": 57
        }
      ],
      "source": [
        "x[::-1]  # 反轉所有的元素"
      ]
    },
    {
      "cell_type": "code",
      "execution_count": 59,
      "metadata": {
        "id": "LDR5gosj_xAU",
        "outputId": "4cbae32b-88e6-4e86-fdbf-6eb9c1a0f363",
        "colab": {
          "base_uri": "https://localhost:8080/"
        }
      },
      "outputs": [
        {
          "output_type": "execute_result",
          "data": {
            "text/plain": [
              "array([5, 3, 1])"
            ]
          },
          "metadata": {},
          "execution_count": 59
        }
      ],
      "source": [
        "x[5::-2]  # 從索引值5開始反轉往前取得間隔2的所有元素"
      ]
    },
    {
      "cell_type": "markdown",
      "metadata": {
        "id": "x0U7O_zN_xAV"
      },
      "source": [
        "### 多維子陣列\n",
        "\n",
        "只要使用逗號來區隔多個切片值的指定內容即可。"
      ]
    },
    {
      "cell_type": "code",
      "execution_count": 60,
      "metadata": {
        "id": "CTHh6-iK_xAV",
        "outputId": "4485386b-ed6c-4029-a04b-70d45a7729df",
        "colab": {
          "base_uri": "https://localhost:8080/"
        }
      },
      "outputs": [
        {
          "output_type": "execute_result",
          "data": {
            "text/plain": [
              "array([[12,  5,  2,  4],\n",
              "       [ 7,  6,  8, 33],\n",
              "       [ 1,  6,  7,  7]])"
            ]
          },
          "metadata": {},
          "execution_count": 60
        }
      ],
      "source": [
        "x2"
      ]
    },
    {
      "cell_type": "code",
      "source": [
        "x2[1:3,2:4]"
      ],
      "metadata": {
        "colab": {
          "base_uri": "https://localhost:8080/"
        },
        "id": "JoHMlbofYHZM",
        "outputId": "2cd3eee2-b351-47f6-a38b-7b907d685179"
      },
      "execution_count": 64,
      "outputs": [
        {
          "output_type": "execute_result",
          "data": {
            "text/plain": [
              "array([[ 8, 33],\n",
              "       [ 7,  7]])"
            ]
          },
          "metadata": {},
          "execution_count": 64
        }
      ]
    },
    {
      "cell_type": "code",
      "execution_count": 65,
      "metadata": {
        "id": "zRZ342iD_xAW",
        "outputId": "94a44d0b-055b-466b-9d9a-77437d13318a",
        "colab": {
          "base_uri": "https://localhost:8080/"
        }
      },
      "outputs": [
        {
          "output_type": "execute_result",
          "data": {
            "text/plain": [
              "array([[12,  5,  2],\n",
              "       [ 7,  6,  8]])"
            ]
          },
          "metadata": {},
          "execution_count": 65
        }
      ],
      "source": [
        "x2[:2, :3]  # 從[0, 0]取2個列(row)和3個欄(column)"
      ]
    },
    {
      "cell_type": "code",
      "execution_count": 66,
      "metadata": {
        "id": "mmFqwJ9D_xAX",
        "outputId": "f16c8822-b875-4c90-c6d8-76f5a87c302b",
        "colab": {
          "base_uri": "https://localhost:8080/"
        }
      },
      "outputs": [
        {
          "output_type": "execute_result",
          "data": {
            "text/plain": [
              "array([[12,  2],\n",
              "       [ 7,  8],\n",
              "       [ 1,  7]])"
            ]
          },
          "metadata": {},
          "execution_count": 66
        }
      ],
      "source": [
        "x2[:3, ::2]  # 所有列的偶數欄"
      ]
    },
    {
      "cell_type": "code",
      "source": [
        "x2[:3, ::-2]"
      ],
      "metadata": {
        "colab": {
          "base_uri": "https://localhost:8080/"
        },
        "id": "s9PycBfqY18K",
        "outputId": "541417ad-8980-46b1-be09-4cf0146af792"
      },
      "execution_count": 67,
      "outputs": [
        {
          "output_type": "execute_result",
          "data": {
            "text/plain": [
              "array([[ 4,  5],\n",
              "       [33,  6],\n",
              "       [ 7,  6]])"
            ]
          },
          "metadata": {},
          "execution_count": 67
        }
      ]
    },
    {
      "cell_type": "markdown",
      "metadata": {
        "id": "ZJQjlbbX_xAZ"
      },
      "source": [
        "子陣列的維度內容也可以一起反轉"
      ]
    },
    {
      "cell_type": "code",
      "execution_count": 68,
      "metadata": {
        "id": "wUHLtFEF_xAa",
        "outputId": "3bb95f63-aefc-4765-9349-417f33765390",
        "colab": {
          "base_uri": "https://localhost:8080/"
        }
      },
      "outputs": [
        {
          "output_type": "execute_result",
          "data": {
            "text/plain": [
              "array([[ 7,  7,  6,  1],\n",
              "       [33,  8,  6,  7],\n",
              "       [ 4,  2,  5, 12]])"
            ]
          },
          "metadata": {},
          "execution_count": 68
        }
      ],
      "source": [
        "x2[::-1, ::-1]"
      ]
    },
    {
      "cell_type": "markdown",
      "metadata": {
        "id": "-XeVvn1X_xAa"
      },
      "source": [
        "#### 存取陣列的列和欄\n",
        "\n",
        "可以結合index和slicing的方式，使用一個單獨的冒號(``:``)標記為空切片:"
      ]
    },
    {
      "cell_type": "code",
      "execution_count": 69,
      "metadata": {
        "id": "UgN7b63M_xAb",
        "outputId": "b3ff07e4-bfed-4b5c-d67d-c5c2b4fa3d75",
        "colab": {
          "base_uri": "https://localhost:8080/"
        }
      },
      "outputs": [
        {
          "output_type": "stream",
          "name": "stdout",
          "text": [
            "[12  7  1]\n"
          ]
        }
      ],
      "source": [
        "print(x2[:, 0])  # x2的第0欄"
      ]
    },
    {
      "cell_type": "code",
      "source": [
        "print(x2[:,3])"
      ],
      "metadata": {
        "colab": {
          "base_uri": "https://localhost:8080/"
        },
        "id": "iqRLAtEFbJVO",
        "outputId": "72c58143-d562-4eab-c73d-d30bfcfff3f3"
      },
      "execution_count": 71,
      "outputs": [
        {
          "output_type": "stream",
          "name": "stdout",
          "text": [
            "[ 4 33  7]\n"
          ]
        }
      ]
    },
    {
      "cell_type": "code",
      "execution_count": 70,
      "metadata": {
        "id": "m8kPsRek_xAc",
        "outputId": "c052de58-693c-4801-a433-67ac970584c2",
        "colab": {
          "base_uri": "https://localhost:8080/"
        }
      },
      "outputs": [
        {
          "output_type": "stream",
          "name": "stdout",
          "text": [
            "[12  5  2  4]\n"
          ]
        }
      ],
      "source": [
        "print(x2[0, :])  # x2的第0列"
      ]
    },
    {
      "cell_type": "code",
      "source": [
        "print(x2[0,1:4])"
      ],
      "metadata": {
        "colab": {
          "base_uri": "https://localhost:8080/"
        },
        "id": "Rzz7ue6Qb4BK",
        "outputId": "d1675e9c-e9cf-4f44-acde-91dd5cba8c81"
      },
      "execution_count": 75,
      "outputs": [
        {
          "output_type": "stream",
          "name": "stdout",
          "text": [
            "[5 2 4]\n"
          ]
        }
      ]
    },
    {
      "cell_type": "markdown",
      "metadata": {
        "id": "_fPiM6dx_xAc"
      },
      "source": [
        "在列存取的例子中，代表空切片的冒號可以忽略，以讓語法更為精簡:"
      ]
    },
    {
      "cell_type": "code",
      "execution_count": 76,
      "metadata": {
        "id": "W4Ks18pu_xAd",
        "outputId": "a6349691-596b-4233-8bc2-897cd91c3a42",
        "colab": {
          "base_uri": "https://localhost:8080/"
        }
      },
      "outputs": [
        {
          "output_type": "stream",
          "name": "stdout",
          "text": [
            "[12  5  2  4]\n"
          ]
        }
      ],
      "source": [
        "print(x2[0])  # 相當於x2[0, :]"
      ]
    },
    {
      "cell_type": "markdown",
      "metadata": {
        "id": "IWhNooOd_xAe"
      },
      "source": [
        "### 子陣列是未複製的視圖\n",
        "\n",
        "在做陣列切片時所傳回的子陣列是*views(視圖)*，而非*copies(複製)*自該陣列的資料。\n",
        "\n",
        "這是Numpy在做陣列時不同於Python對於list slicing時的地方:\n",
        "在list中，slicing是以複製資料的方式完成。\n",
        "\n",
        "以下為之前的二維陣列:"
      ]
    },
    {
      "cell_type": "code",
      "execution_count": 77,
      "metadata": {
        "id": "b0fZDXaL_xAf",
        "outputId": "ea8751c8-3060-4180-da02-7a6f0fe238e9",
        "colab": {
          "base_uri": "https://localhost:8080/"
        }
      },
      "outputs": [
        {
          "output_type": "stream",
          "name": "stdout",
          "text": [
            "[[12  5  2  4]\n",
            " [ 7  6  8 33]\n",
            " [ 1  6  7  7]]\n"
          ]
        }
      ],
      "source": [
        "print(x2)"
      ]
    },
    {
      "cell_type": "markdown",
      "metadata": {
        "id": "qwkljTJM_xAg"
      },
      "source": [
        "從中取出2x2的子陣列:"
      ]
    },
    {
      "cell_type": "code",
      "execution_count": 78,
      "metadata": {
        "id": "vwqOcv_5_xAh",
        "outputId": "a2f9ebc3-ef86-44e4-ba4d-16b66b2335b9",
        "colab": {
          "base_uri": "https://localhost:8080/"
        }
      },
      "outputs": [
        {
          "output_type": "stream",
          "name": "stdout",
          "text": [
            "[[12  5]\n",
            " [ 7  6]]\n"
          ]
        }
      ],
      "source": [
        "x2_sub = x2[:2, :2]\n",
        "print(x2_sub)"
      ]
    },
    {
      "cell_type": "markdown",
      "metadata": {
        "id": "RyRWGjOg_xAh"
      },
      "source": [
        "如果要修改這個子陣列，可以看到原來的陣列會被改變:"
      ]
    },
    {
      "cell_type": "code",
      "execution_count": 79,
      "metadata": {
        "id": "b6k95puN_xAi",
        "outputId": "200c8856-9bfe-4423-80ff-99b97db4f6d7",
        "colab": {
          "base_uri": "https://localhost:8080/"
        }
      },
      "outputs": [
        {
          "output_type": "stream",
          "name": "stdout",
          "text": [
            "[[99  5]\n",
            " [ 7  6]]\n"
          ]
        }
      ],
      "source": [
        "x2_sub[0, 0] = 99\n",
        "print(x2_sub)"
      ]
    },
    {
      "cell_type": "code",
      "execution_count": 80,
      "metadata": {
        "id": "Q3aFi4d1_xAj",
        "outputId": "585f2ce1-c8bd-493d-e618-acf1d1dd9432",
        "colab": {
          "base_uri": "https://localhost:8080/"
        }
      },
      "outputs": [
        {
          "output_type": "stream",
          "name": "stdout",
          "text": [
            "[[99  5  2  4]\n",
            " [ 7  6  8 33]\n",
            " [ 1  6  7  7]]\n"
          ]
        }
      ],
      "source": [
        "print(x2) #意思是改子陣列會把原本陣列的數字一起改掉，因為子陣列是原本陣列的一個view"
      ]
    },
    {
      "cell_type": "markdown",
      "metadata": {
        "id": "i--t-mRH_xAj"
      },
      "source": [
        "這個特性非常好用。\n",
        "在操作一個大的資料集時，可以存取這些資料集的部分內容而不需要去複製底下的資料緩衝。"
      ]
    },
    {
      "cell_type": "markdown",
      "metadata": {
        "id": "h7S0Qjbf_xAk"
      },
      "source": [
        "### 建立陣列的複本\n",
        "\n",
        "只用`copy()`就能簡單做到從陣列或子陣列中複製出資料。"
      ]
    },
    {
      "cell_type": "code",
      "execution_count": 81,
      "metadata": {
        "id": "AndznjjV_xAk",
        "outputId": "fe614686-aa3f-433e-a795-255dc573463f",
        "colab": {
          "base_uri": "https://localhost:8080/"
        }
      },
      "outputs": [
        {
          "output_type": "stream",
          "name": "stdout",
          "text": [
            "[[99  5]\n",
            " [ 7  6]]\n"
          ]
        }
      ],
      "source": [
        "x2_sub_copy = x2[:2, :2].copy()\n",
        "print(x2_sub_copy)"
      ]
    },
    {
      "cell_type": "markdown",
      "metadata": {
        "id": "paJmXhnr_xAl"
      },
      "source": [
        "如果現在修改子陣列的內容，原來的陣列就不會被動到了"
      ]
    },
    {
      "cell_type": "code",
      "execution_count": 82,
      "metadata": {
        "id": "gFnBao7b_xAm",
        "outputId": "9add8be3-454a-46f4-ccc1-afb7530d4fd6",
        "colab": {
          "base_uri": "https://localhost:8080/"
        }
      },
      "outputs": [
        {
          "output_type": "stream",
          "name": "stdout",
          "text": [
            "[[42  5]\n",
            " [ 7  6]]\n"
          ]
        }
      ],
      "source": [
        "x2_sub_copy[0, 0] = 42\n",
        "print(x2_sub_copy)"
      ]
    },
    {
      "cell_type": "code",
      "execution_count": 83,
      "metadata": {
        "id": "bl2r5cUz_xAm",
        "outputId": "b6e70a94-760d-4f2d-d1f7-e05b221d61f3",
        "colab": {
          "base_uri": "https://localhost:8080/"
        }
      },
      "outputs": [
        {
          "output_type": "stream",
          "name": "stdout",
          "text": [
            "[[99  5  2  4]\n",
            " [ 7  6  8 33]\n",
            " [ 1  6  7  7]]\n"
          ]
        }
      ],
      "source": [
        "print(x2)"
      ]
    },
    {
      "cell_type": "markdown",
      "metadata": {
        "id": "6aFMFB0j_xAn"
      },
      "source": [
        "## 陣列重塑(Reshape)\n",
        "\n"
      ]
    },
    {
      "cell_type": "code",
      "execution_count": null,
      "metadata": {
        "id": "0WA-ZaoA_xAp",
        "outputId": "cf7fe03f-39a6-46c6-81f3-a779412f9d73"
      },
      "outputs": [
        {
          "name": "stdout",
          "output_type": "stream",
          "text": [
            "[[1 2 3]\n",
            " [4 5 6]\n",
            " [7 8 9]]\n"
          ]
        }
      ],
      "source": [
        "grid = np.arange(1, 10).reshape((3, 3))\n",
        "print(grid)"
      ]
    },
    {
      "cell_type": "markdown",
      "metadata": {
        "id": "lQvRZ3-C_xAq"
      },
      "source": [
        "另一個常見的重塑方法，是把一維陣列放進去一個二維陣列中當作是它的其中一列或一欄，此用法也可以透過reshpae方法做到"
      ]
    },
    {
      "cell_type": "code",
      "execution_count": null,
      "metadata": {
        "id": "bW-aHZNR_xAq",
        "outputId": "68d9c759-95a4-4219-a354-8409427e1bb2"
      },
      "outputs": [
        {
          "data": {
            "text/plain": [
              "array([[1, 2, 3]])"
            ]
          },
          "execution_count": 39,
          "metadata": {},
          "output_type": "execute_result"
        }
      ],
      "source": [
        "x = np.array([1, 2, 3]) # 陣列\n",
        "\n",
        "# 透過reshape建立列向量(row vector)\n",
        "x.reshape((1, 3))"
      ]
    },
    {
      "cell_type": "code",
      "execution_count": null,
      "metadata": {
        "id": "Fw0nMvWV_xAs",
        "outputId": "ec582a6f-f326-4166-f15c-a34220cee683"
      },
      "outputs": [
        {
          "data": {
            "text/plain": [
              "array([[1],\n",
              "       [2],\n",
              "       [3]])"
            ]
          },
          "execution_count": 41,
          "metadata": {},
          "output_type": "execute_result"
        }
      ],
      "source": [
        "# 透過reshape建立欄向項(column vector)\n",
        "x.reshape((3, 1))"
      ]
    },
    {
      "cell_type": "markdown",
      "metadata": {
        "id": "-Qc4Bslb_xAu"
      },
      "source": [
        "## 陣列的串接(Concatenation)和分割(Splitting)\n",
        "\n",
        "把多個陣列合併成一個，也可以將一個陣列分裂成多個陣列"
      ]
    },
    {
      "cell_type": "markdown",
      "metadata": {
        "id": "euaUWnSU_xAu"
      },
      "source": [
        "### 串接分割\n",
        "\n",
        "在Numpy中串接兩個陣列，主要是以`np.concatenate`, `np.vstack`, `np.hstack`這幾個程序完成。\n"
      ]
    },
    {
      "cell_type": "code",
      "execution_count": null,
      "metadata": {
        "id": "FRk-eOF1_xAv",
        "outputId": "66e953a8-303b-4892-c9fa-0f631b313c06"
      },
      "outputs": [
        {
          "data": {
            "text/plain": [
              "array([1, 2, 3, 3, 2, 1])"
            ]
          },
          "execution_count": 43,
          "metadata": {},
          "output_type": "execute_result"
        }
      ],
      "source": [
        "x = np.array([1, 2, 3]) \n",
        "y = np.array([3, 2, 1])\n",
        "np.concatenate([x, y]) # 以前面的tuple或list當作是第一個參數"
      ]
    },
    {
      "cell_type": "markdown",
      "metadata": {
        "id": "C20KG5T__xAw"
      },
      "source": [
        "也可以一次串接2個以上的陣列"
      ]
    },
    {
      "cell_type": "code",
      "execution_count": null,
      "metadata": {
        "id": "sIpP10yP_xAw",
        "outputId": "dee7c165-3e7b-458b-a59a-aa60a8e9a7c7"
      },
      "outputs": [
        {
          "name": "stdout",
          "output_type": "stream",
          "text": [
            "[ 1  2  3  3  2  1 99 99 99]\n"
          ]
        }
      ],
      "source": [
        "z = [99, 99, 99]\n",
        "print(np.concatenate([x, y, z]))"
      ]
    },
    {
      "cell_type": "markdown",
      "metadata": {
        "id": "tGnP1mfX_xAx"
      },
      "source": [
        "也可以串接二維陣列的串接上"
      ]
    },
    {
      "cell_type": "code",
      "execution_count": null,
      "metadata": {
        "id": "tGxAQvcJ_xAy"
      },
      "outputs": [],
      "source": [
        "grid = np.array([[1, 2, 3],\n",
        "          [4, 5, 6]])"
      ]
    },
    {
      "cell_type": "code",
      "execution_count": null,
      "metadata": {
        "id": "fwRbUpZd_xAy",
        "outputId": "001a67b1-992a-416d-9271-92d885f8d3d5"
      },
      "outputs": [
        {
          "data": {
            "text/plain": [
              "array([[1, 2, 3],\n",
              "       [4, 5, 6],\n",
              "       [1, 2, 3],\n",
              "       [4, 5, 6]])"
            ]
          },
          "execution_count": 46,
          "metadata": {},
          "output_type": "execute_result"
        }
      ],
      "source": [
        "# 沿著第一軸串接\n",
        "np.concatenate([grid, grid])"
      ]
    },
    {
      "cell_type": "code",
      "execution_count": null,
      "metadata": {
        "id": "Wlid8ocf_xAz",
        "outputId": "f36c04a7-8b01-40c2-e9d6-3fa128dee967"
      },
      "outputs": [
        {
          "data": {
            "text/plain": [
              "array([[1, 2, 3, 1, 2, 3],\n",
              "       [4, 5, 6, 4, 5, 6]])"
            ]
          },
          "execution_count": 47,
          "metadata": {},
          "output_type": "execute_result"
        }
      ],
      "source": [
        "# 沿著第二軸串接(zero-indexed)\n",
        "np.concatenate([grid, grid], axis=1)"
      ]
    },
    {
      "cell_type": "markdown",
      "metadata": {
        "id": "GJ0MG-Mk_xA0"
      },
      "source": [
        "若要在不同維度陣列間進行串接操作，使用`np.vstack` (垂直堆疊) and `np.hstack`(水平堆疊) v:vectical, h:horizontal"
      ]
    },
    {
      "cell_type": "code",
      "execution_count": null,
      "metadata": {
        "id": "k-jvo0FF_xA0",
        "outputId": "f23aca4a-4ce1-41fb-814c-1fd5c0d8b97f"
      },
      "outputs": [
        {
          "data": {
            "text/plain": [
              "array([[1, 2, 3],\n",
              "       [9, 8, 7],\n",
              "       [6, 5, 4]])"
            ]
          },
          "execution_count": 48,
          "metadata": {},
          "output_type": "execute_result"
        }
      ],
      "source": [
        "x = np.array([1, 2, 3])\n",
        "grid = np.array([[9, 8, 7],\n",
        "          [6, 5, 4]])\n",
        "\n",
        "# 垂直堆疊在陣列上\n",
        "np.vstack([x, grid])"
      ]
    },
    {
      "cell_type": "code",
      "execution_count": null,
      "metadata": {
        "id": "2UbzuaZE_xA1",
        "outputId": "6ec42766-de08-436c-f58b-a502b4d1ac03"
      },
      "outputs": [
        {
          "data": {
            "text/plain": [
              "array([[ 9,  8,  7, 99],\n",
              "       [ 6,  5,  4, 99]])"
            ]
          },
          "execution_count": 49,
          "metadata": {},
          "output_type": "execute_result"
        }
      ],
      "source": [
        "# 水平堆疊在陣列上\n",
        "y = np.array([[99],\n",
        "              [99]])\n",
        "np.hstack([grid, y])"
      ]
    },
    {
      "cell_type": "markdown",
      "metadata": {
        "id": "Hvh-0qJw_xA2"
      },
      "source": [
        "### 分割陣列\n",
        "\n",
        "分割常用`np.split`, `np.hsplit`, and `np.vsplit`。  \n",
        "這幾個函示可以透過一組陣列索引值的list來指定要分割的位置"
      ]
    },
    {
      "cell_type": "code",
      "execution_count": null,
      "metadata": {
        "id": "6j8i78JX_xA3",
        "outputId": "a7baec7e-949d-41ce-c4e8-93e5377792de"
      },
      "outputs": [
        {
          "name": "stdout",
          "output_type": "stream",
          "text": [
            "[1 2 3] [99 99] [3 2 1]\n"
          ]
        }
      ],
      "source": [
        "x = [1, 2, 3, 99, 99, 3, 2, 1]\n",
        "x1, x2, x3 = np.split(x, [3, 5])\n",
        "print(x1, x2, x3)"
      ]
    },
    {
      "cell_type": "markdown",
      "metadata": {
        "id": "tAWFEAJm_xA3"
      },
      "source": [
        "N個分割的點會產生N+1個子陣列。\n",
        "`np.hsplit` and `np.vsplit`也是類似的原理"
      ]
    },
    {
      "cell_type": "code",
      "execution_count": null,
      "metadata": {
        "id": "mkC6g2Um_xA4",
        "outputId": "40b38aa3-1997-430e-f509-d8d7b57ae643"
      },
      "outputs": [
        {
          "data": {
            "text/plain": [
              "array([[ 0,  1,  2,  3],\n",
              "       [ 4,  5,  6,  7],\n",
              "       [ 8,  9, 10, 11],\n",
              "       [12, 13, 14, 15]])"
            ]
          },
          "execution_count": 51,
          "metadata": {},
          "output_type": "execute_result"
        }
      ],
      "source": [
        "grid = np.arange(16).reshape((4, 4))\n",
        "grid"
      ]
    },
    {
      "cell_type": "code",
      "execution_count": null,
      "metadata": {
        "id": "esIk0Xmt_xA5",
        "outputId": "618b5aee-ac18-46f0-8d34-2ae989849474"
      },
      "outputs": [
        {
          "name": "stdout",
          "output_type": "stream",
          "text": [
            "[[0 1 2 3]\n",
            " [4 5 6 7]]\n",
            "[[ 8  9 10 11]\n",
            " [12 13 14 15]]\n"
          ]
        }
      ],
      "source": [
        "upper, lower = np.vsplit(grid, [2])\n",
        "print(upper)\n",
        "print(lower)"
      ]
    },
    {
      "cell_type": "code",
      "execution_count": null,
      "metadata": {
        "id": "yloegfdL_xA6",
        "outputId": "da050c4b-5366-4951-a62b-f8df930fe37d"
      },
      "outputs": [
        {
          "name": "stdout",
          "output_type": "stream",
          "text": [
            "[[ 0  1]\n",
            " [ 4  5]\n",
            " [ 8  9]\n",
            " [12 13]]\n",
            "[[ 2  3]\n",
            " [ 6  7]\n",
            " [10 11]\n",
            " [14 15]]\n"
          ]
        }
      ],
      "source": [
        "left, right = np.hsplit(grid, [2])\n",
        "print(left)\n",
        "print(right)"
      ]
    },
    {
      "cell_type": "markdown",
      "metadata": {
        "id": "5mRawJwk_xA7"
      },
      "source": [
        "<!--NAVIGATION-->\n",
        "< [Understanding Data Types in Python](02.01-Understanding-Data-Types.ipynb) | [Contents](Index.ipynb) | [Computation on NumPy Arrays: Universal Functions](02.03-Computation-on-arrays-ufuncs.ipynb) >\n",
        "\n",
        "<a href=\"https://colab.research.google.com/github/jakevdp/PythonDataScienceHandbook/blob/master/notebooks/02.02-The-Basics-Of-NumPy-Arrays.ipynb\"><img align=\"left\" src=\"https://colab.research.google.com/assets/colab-badge.svg\" alt=\"Open in Colab\" title=\"Open and Execute in Google Colaboratory\"></a>\n"
      ]
    }
  ],
  "metadata": {
    "anaconda-cloud": {},
    "kernelspec": {
      "display_name": "Python 3",
      "language": "python",
      "name": "python3"
    },
    "language_info": {
      "codemirror_mode": {
        "name": "ipython",
        "version": 3
      },
      "file_extension": ".py",
      "mimetype": "text/x-python",
      "name": "python",
      "nbconvert_exporter": "python",
      "pygments_lexer": "ipython3",
      "version": "3.5.1"
    },
    "colab": {
      "name": "02_02_The Basics of NumPy Arrays (Numpy陣列基礎).ipynb",
      "provenance": [],
      "toc_visible": true
    }
  },
  "nbformat": 4,
  "nbformat_minor": 0
}