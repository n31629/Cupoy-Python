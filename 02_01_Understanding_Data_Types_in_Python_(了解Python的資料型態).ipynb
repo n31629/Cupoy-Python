{
  "cells": [
    {
      "cell_type": "markdown",
      "metadata": {
        "id": "armGxMLL_XiO"
      },
      "source": [
        "<!--BOOK_INFORMATION-->\n",
        "<img align=\"left\" style=\"padding-right:10px;\" src=\"https://github.com/jakevdp/PythonDataScienceHandbook/blob/master/notebooks/figures/PDSH-cover-small.png?raw=1\">\n",
        "\n",
        "*This notebook contains an excerpt from the [Python Data Science Handbook](http://shop.oreilly.com/product/0636920034919.do) by Jake VanderPlas; the content is available [on GitHub](https://github.com/jakevdp/PythonDataScienceHandbook).*\n",
        "\n",
        "*The text is released under the [CC-BY-NC-ND license](https://creativecommons.org/licenses/by-nc-nd/3.0/us/legalcode), and code is released under the [MIT license](https://opensource.org/licenses/MIT). If you find this content useful, please consider supporting the work by [buying the book](http://shop.oreilly.com/product/0636920034919.do)!*"
      ]
    },
    {
      "cell_type": "markdown",
      "metadata": {
        "id": "5_lZFFq5_XiW"
      },
      "source": [
        "<!--NAVIGATION-->\n",
        "< [Introduction to NumPy](02.00-Introduction-to-NumPy.ipynb) | [Contents](Index.ipynb) | [The Basics of NumPy Arrays](02.02-The-Basics-Of-NumPy-Arrays.ipynb) >\n",
        "\n",
        "<a href=\"https://colab.research.google.com/github/jakevdp/PythonDataScienceHandbook/blob/master/notebooks/02.01-Understanding-Data-Types.ipynb\"><img align=\"left\" src=\"https://colab.research.google.com/assets/colab-badge.svg\" alt=\"Open in Colab\" title=\"Open and Execute in Google Colaboratory\"></a>\n"
      ]
    },
    {
      "cell_type": "markdown",
      "source": [
        "# Colab介紹及基本操作解說"
      ],
      "metadata": {
        "id": "AW-ltgoPPHga"
      }
    },
    {
      "cell_type": "markdown",
      "source": [
        "## 介紹"
      ],
      "metadata": {
        "id": "yX6g8yOnRAcA"
      }
    },
    {
      "cell_type": "markdown",
      "source": [
        "1. Google Colaboratory (Colab)是Google由所開發,主要目的是想要幫助機器學習和教育的推廣。\n",
        "2. 在雲端提供Jupyter Notebook (一種Python開發工具，為套裝編輯器版)的程式撰寫環境，無需額外的設定或下載其他的軟體就可以使用,而且提供免費的GPU及TPU可做加速運算。\n",
        "3. 預設即安裝了一些常見的機器學習套件，如:Numpy, pandas, matplotlib\n",
        "4. 適合入門者學習寫code練習用，之後可視自己的需求額外下載其他編輯器(如:Anaconda, Pycharm, VScode等等)\n",
        "5. 雖說是免費的GPU和TPU，但只要有15分鐘沒有使用或者已經使用超過12小時，系統就會自己斷線不讓你使用GPU和TPU了。"
      ],
      "metadata": {
        "id": "PBvu0h_kRE9R"
      }
    },
    {
      "cell_type": "markdown",
      "source": [
        "## 基本操作解說"
      ],
      "metadata": {
        "id": "ZfTg95hTSoFR"
      }
    },
    {
      "cell_type": "markdown",
      "source": [
        "1. 通常我都會轉成英文版本，看起來比較美觀 (說明/查看英文版本)。\n",
        "2. 一個程式(Code)或文字(text)，都稱為單元(Cell)。\n",
        "3. 可以在單元與單元間建立程式或文字單元。\n",
        "4. 執行程式的前置作業:點選右上角的\"連線\"，出現記憶體(RAM)和磁碟後，代表已經連線到Google的虛擬機器做GPU或TPU加速，可確認目前記憶體和磁碟的使用狀況。\n",
        "5. 確認現在是否有硬體加速:\"執行階段\"/\"變更執行階段\"\n",
        "6. 執行程式的方式有三種:點選播放紐、Shift + enter (執行後游標在下一個cell)、Control + enter (執行後游標在同一個cell)\n",
        "7. 結果文字編輯後，可按Shift + enter\n",
        "7. 可以用#當作書籤做標記(markdown)，如:第一層為#、第二層為##"
      ],
      "metadata": {
        "id": "hdA4a4gKSuid"
      }
    },
    {
      "cell_type": "markdown",
      "metadata": {
        "id": "QFsxgc_y_XiY"
      },
      "source": [
        "# 了解Python的資料型態\n"
      ]
    },
    {
      "cell_type": "markdown",
      "metadata": {
        "id": "RcZfEJEz_Xii"
      },
      "source": [
        "## Python的list不僅僅只是list\n",
        "\n",
        "List為一個可修改多元素的容器，建立整數(integer)的list如下所示。"
      ]
    },
    {
      "cell_type": "code",
      "source": [
        "X = 1\n",
        "print(X)"
      ],
      "metadata": {
        "colab": {
          "base_uri": "https://localhost:8080/"
        },
        "id": "jK1Q_9ulBcCJ",
        "outputId": "dbf836f9-9c8c-4c41-aed1-1f606c73e3cc"
      },
      "execution_count": null,
      "outputs": [
        {
          "output_type": "stream",
          "name": "stdout",
          "text": [
            "1\n"
          ]
        }
      ]
    },
    {
      "cell_type": "code",
      "execution_count": null,
      "metadata": {
        "id": "V6zzH10Z_Xik",
        "outputId": "ce2cbd20-97f6-4efe-8e07-2a07472c6e38",
        "colab": {
          "base_uri": "https://localhost:8080/"
        }
      },
      "outputs": [
        {
          "output_type": "execute_result",
          "data": {
            "text/plain": [
              "[0, 1, 2, 3, 4, 5, 6, 7, 8, 9]"
            ]
          },
          "metadata": {},
          "execution_count": 3
        }
      ],
      "source": [
        "L = list(range(10))\n",
        "L"
      ]
    },
    {
      "cell_type": "code",
      "source": [
        "A = list(range(20))\n",
        "A"
      ],
      "metadata": {
        "colab": {
          "base_uri": "https://localhost:8080/"
        },
        "id": "_uYwAgJfnQLE",
        "outputId": "751b4d8a-2098-45e3-98c9-f9ee9557787f"
      },
      "execution_count": null,
      "outputs": [
        {
          "output_type": "execute_result",
          "data": {
            "text/plain": [
              "[0, 1, 2, 3, 4, 5, 6, 7, 8, 9, 10, 11, 12, 13, 14, 15, 16, 17, 18, 19]"
            ]
          },
          "metadata": {},
          "execution_count": 6
        }
      ]
    },
    {
      "cell_type": "code",
      "execution_count": null,
      "metadata": {
        "id": "duF24Epa_Xip",
        "outputId": "ff07b40a-715d-457e-c300-a83653b7fa40",
        "colab": {
          "base_uri": "https://localhost:8080/"
        }
      },
      "outputs": [
        {
          "output_type": "execute_result",
          "data": {
            "text/plain": [
              "int"
            ]
          },
          "metadata": {},
          "execution_count": 7
        }
      ],
      "source": [
        "type(L[0])"
      ]
    },
    {
      "cell_type": "markdown",
      "metadata": {
        "id": "smVy9wn4_Xir"
      },
      "source": [
        "建立字串(string)的list如下:"
      ]
    },
    {
      "cell_type": "code",
      "execution_count": null,
      "metadata": {
        "id": "AMe-sP3w_Xis",
        "outputId": "e80bf584-b0c4-425d-f1ee-bdf5bec624f4",
        "colab": {
          "base_uri": "https://localhost:8080/"
        }
      },
      "outputs": [
        {
          "output_type": "execute_result",
          "data": {
            "text/plain": [
              "['0', '1', '2', '3', '4', '5', '6', '7', '8', '9']"
            ]
          },
          "metadata": {},
          "execution_count": 8
        }
      ],
      "source": [
        "L2 = [str(c) for c in L]\n",
        "L2"
      ]
    },
    {
      "cell_type": "code",
      "execution_count": null,
      "metadata": {
        "id": "ESBZxQKb_Xit",
        "outputId": "caf36f0b-1244-46a8-8577-0cd9700afe34",
        "colab": {
          "base_uri": "https://localhost:8080/"
        }
      },
      "outputs": [
        {
          "output_type": "execute_result",
          "data": {
            "text/plain": [
              "str"
            ]
          },
          "metadata": {},
          "execution_count": 9
        }
      ],
      "source": [
        "type(L2[0])"
      ]
    },
    {
      "cell_type": "markdown",
      "metadata": {
        "id": "TlEcoJ3t_Xiu"
      },
      "source": [
        "可以建立異質性的list (混合不同屬性的元素)"
      ]
    },
    {
      "cell_type": "code",
      "execution_count": null,
      "metadata": {
        "id": "-0mFjncl_Xiu",
        "outputId": "62190320-6f7f-4d75-a122-4af5fd36155c",
        "colab": {
          "base_uri": "https://localhost:8080/"
        }
      },
      "outputs": [
        {
          "output_type": "execute_result",
          "data": {
            "text/plain": [
              "[bool, str, float, int]"
            ]
          },
          "metadata": {},
          "execution_count": 10
        }
      ],
      "source": [
        "L3 = [True, \"2\", 3.0, 4]\n",
        "[type(item) for item in L3]"
      ]
    },
    {
      "cell_type": "markdown",
      "metadata": {
        "id": "Sn6rfyHh_Xix"
      },
      "source": [
        "## Python的固定型態陣列(array)\n",
        "\n",
        "內建的array套件可建立單一型態的稠密陣列:"
      ]
    },
    {
      "cell_type": "code",
      "execution_count": null,
      "metadata": {
        "id": "_hoSA8lI_Xiy",
        "outputId": "41a0a450-fd82-4d62-a3a5-c3a5dd7d965b",
        "colab": {
          "base_uri": "https://localhost:8080/"
        }
      },
      "outputs": [
        {
          "output_type": "execute_result",
          "data": {
            "text/plain": [
              "array('i', [0, 1, 2, 3, 4, 5, 6, 7, 8, 9])"
            ]
          },
          "metadata": {},
          "execution_count": 11
        }
      ],
      "source": [
        "import array\n",
        "L = list(range(10))\n",
        "A = array.array('i', L)\n",
        "A"
      ]
    },
    {
      "cell_type": "markdown",
      "metadata": {
        "id": "BFOviKFd_Xiz"
      },
      "source": [
        "'i'是用來設定接下來的內容型態為整數\n",
        "\n",
        "Numpy套件及Numpy套件中的ndarray可以增加資料操作的效率\n"
      ]
    },
    {
      "cell_type": "code",
      "execution_count": 1,
      "metadata": {
        "id": "ZDxSHUBG_Xi3"
      },
      "outputs": [],
      "source": [
        "import numpy as np"
      ]
    },
    {
      "cell_type": "markdown",
      "metadata": {
        "id": "2ww_wydz_Xi5"
      },
      "source": [
        "## 從Python list中建立陣列\n",
        "\n",
        "使用 ``np.array`` 從list來建立陣列:"
      ]
    },
    {
      "cell_type": "code",
      "execution_count": null,
      "metadata": {
        "id": "m9rS9b_W_Xi6",
        "outputId": "f559c9fc-5b28-471f-fdad-201b2e09d61f",
        "colab": {
          "base_uri": "https://localhost:8080/"
        }
      },
      "outputs": [
        {
          "output_type": "execute_result",
          "data": {
            "text/plain": [
              "array([1, 4, 2, 5, 3])"
            ]
          },
          "metadata": {},
          "execution_count": 25
        }
      ],
      "source": [
        "# integer array:\n",
        "np.array([1, 4, 2, 5, 3])"
      ]
    },
    {
      "cell_type": "markdown",
      "metadata": {
        "id": "tASH13Ji_Xi8"
      },
      "source": [
        "和list不一樣，Numpy會限制所有在陣列中的內容須為相同型態。\n",
        "\n",
        "如果型態不符合，Numpy會自動轉換其型態(如下面的浮點數+整數，會變成都是浮點數)"
      ]
    },
    {
      "cell_type": "code",
      "execution_count": null,
      "metadata": {
        "id": "6br0dWOn_Xi9",
        "outputId": "6a6208b2-1f07-4e55-f9f2-910a065bd7d1",
        "colab": {
          "base_uri": "https://localhost:8080/"
        }
      },
      "outputs": [
        {
          "output_type": "execute_result",
          "data": {
            "text/plain": [
              "array([3.14, 4.  , 2.  , 3.  ])"
            ]
          },
          "metadata": {},
          "execution_count": 30
        }
      ],
      "source": [
        "np.array([3.14, 4, 2, 3])"
      ]
    },
    {
      "cell_type": "markdown",
      "metadata": {
        "id": "UMf9bEuU_Xi-"
      },
      "source": [
        "如果想要明確設定陣列的資料型態, 可以使用 ``dtype`` :"
      ]
    },
    {
      "cell_type": "code",
      "execution_count": null,
      "metadata": {
        "id": "MBsgU94y_Xi_",
        "outputId": "faf482e4-5c80-421e-e77f-f846df665cc5"
      },
      "outputs": [
        {
          "data": {
            "text/plain": [
              "array([ 1.,  2.,  3.,  4.], dtype=float32)"
            ]
          },
          "execution_count": 10,
          "metadata": {},
          "output_type": "execute_result"
        }
      ],
      "source": [
        "np.array([1, 2, 3, 4], dtype='float32') # 32位浮點數"
      ]
    },
    {
      "cell_type": "markdown",
      "metadata": {
        "id": "dPHZTAMu_XjB"
      },
      "source": [
        "不像Python的lists, NumPy陣列可以明確設定為多個維度，在此使用的包含list的list來初始化多維的Numpy維度:"
      ]
    },
    {
      "cell_type": "code",
      "execution_count": null,
      "metadata": {
        "id": "2g_OQ1fz_XjD",
        "outputId": "4470f073-6a0f-4896-bf7a-8a9eb64483bf"
      },
      "outputs": [
        {
          "data": {
            "text/plain": [
              "array([[2, 3, 4],\n",
              "       [4, 5, 6],\n",
              "       [6, 7, 8]])"
            ]
          },
          "execution_count": 11,
          "metadata": {},
          "output_type": "execute_result"
        }
      ],
      "source": [
        "# nested 巢式 lists result in multi-dimensional arrays\n",
        "np.array([range(i, i + 3) for i in [2, 4, 6]])\n",
        "np.array()"
      ]
    },
    {
      "cell_type": "markdown",
      "metadata": {
        "id": "wY1eviCl_XjE"
      },
      "source": [
        "在內層的每一個list，會被當作是產出之結果二維陣列其中的每一列內容"
      ]
    },
    {
      "cell_type": "markdown",
      "metadata": {
        "id": "mETNuZDO_XjF"
      },
      "source": [
        "## 從無到有建立陣列\n",
        "\n",
        "在大型的陣列，使用程式從無到有建立Numpy陣列會更有效率"
      ]
    },
    {
      "cell_type": "code",
      "execution_count": 2,
      "metadata": {
        "id": "BZIwEUW0_XjG",
        "outputId": "4e164385-689c-47e2-806e-675ee420aca5",
        "colab": {
          "base_uri": "https://localhost:8080/"
        }
      },
      "outputs": [
        {
          "output_type": "execute_result",
          "data": {
            "text/plain": [
              "array([0, 0, 0, 0, 0, 0, 0, 0, 0, 0])"
            ]
          },
          "metadata": {},
          "execution_count": 2
        }
      ],
      "source": [
        "# 建立一個內容全為0，長度為10的整數陣列\n",
        "np.zeros(10, dtype=int)"
      ]
    },
    {
      "cell_type": "code",
      "source": [
        "np.zeros((3,4))"
      ],
      "metadata": {
        "colab": {
          "base_uri": "https://localhost:8080/"
        },
        "id": "GIpiHz8QLPY1",
        "outputId": "43a13958-0e1e-41a1-cc00-8bf8e398b097"
      },
      "execution_count": 3,
      "outputs": [
        {
          "output_type": "execute_result",
          "data": {
            "text/plain": [
              "array([[0., 0., 0., 0.],\n",
              "       [0., 0., 0., 0.],\n",
              "       [0., 0., 0., 0.]])"
            ]
          },
          "metadata": {},
          "execution_count": 3
        }
      ]
    },
    {
      "cell_type": "code",
      "execution_count": null,
      "metadata": {
        "id": "aayxCpIX_XjI",
        "outputId": "3e9fe62e-f8de-405f-c0a3-114bcd63685f"
      },
      "outputs": [
        {
          "data": {
            "text/plain": [
              "array([[ 1.,  1.,  1.,  1.,  1.],\n",
              "       [ 1.,  1.,  1.,  1.,  1.],\n",
              "       [ 1.,  1.,  1.,  1.,  1.]])"
            ]
          },
          "execution_count": 13,
          "metadata": {},
          "output_type": "execute_result"
        }
      ],
      "source": [
        "# 建立一個內容全為1的3x5浮點數陣列\n",
        "np.ones((3, 5), dtype=float)"
      ]
    },
    {
      "cell_type": "code",
      "execution_count": 5,
      "metadata": {
        "id": "BmGb1fMp_XjK",
        "outputId": "d606bd32-7360-4973-e39b-ecbbb2b32fe5",
        "colab": {
          "base_uri": "https://localhost:8080/"
        }
      },
      "outputs": [
        {
          "output_type": "execute_result",
          "data": {
            "text/plain": [
              "array([[3.14, 3.14, 3.14, 3.14, 3.14],\n",
              "       [3.14, 3.14, 3.14, 3.14, 3.14],\n",
              "       [3.14, 3.14, 3.14, 3.14, 3.14]])"
            ]
          },
          "metadata": {},
          "execution_count": 5
        }
      ],
      "source": [
        "# 建立一個填滿3.14內容的3x5陣列\n",
        "x = np.full((3, 5), 3.14)\n",
        "x"
      ]
    },
    {
      "cell_type": "code",
      "source": [
        "x[0,1]"
      ],
      "metadata": {
        "colab": {
          "base_uri": "https://localhost:8080/"
        },
        "id": "z_HH_ZkTMKuT",
        "outputId": "d711908f-a2f4-4cb8-fb28-9987a52b876c"
      },
      "execution_count": 6,
      "outputs": [
        {
          "output_type": "execute_result",
          "data": {
            "text/plain": [
              "3.14"
            ]
          },
          "metadata": {},
          "execution_count": 6
        }
      ]
    },
    {
      "cell_type": "code",
      "execution_count": 20,
      "metadata": {
        "id": "8C0d1nQl_XjM",
        "outputId": "60898bc2-c9fe-4117-edff-629e60a83299",
        "colab": {
          "base_uri": "https://localhost:8080/"
        }
      },
      "outputs": [
        {
          "output_type": "execute_result",
          "data": {
            "text/plain": [
              "array([ 0.,  2.,  4.,  6.,  8., 10., 12., 14., 16., 18.])"
            ]
          },
          "metadata": {},
          "execution_count": 20
        }
      ],
      "source": [
        "# 建立一個依序填滿的陣列\n",
        "# 從0開始，到20結束，每次以2為間隔\n",
        "# (這和內建的range()函式類似)\n",
        "np.arange(0, 20, 2, dtype = 'float')"
      ]
    },
    {
      "cell_type": "code",
      "execution_count": null,
      "metadata": {
        "id": "f1phrW7g_XjN",
        "outputId": "36d84ed2-61d9-4f69-bc95-da7c58f68b20"
      },
      "outputs": [
        {
          "data": {
            "text/plain": [
              "array([ 0.  ,  0.25,  0.5 ,  0.75,  1.  ])"
            ]
          },
          "execution_count": 16,
          "metadata": {},
          "output_type": "execute_result"
        }
      ],
      "source": [
        "# 建立5個值的陣列，在0到1間 平均分佈\n",
        "np.linspace(0, 1, 5)"
      ]
    },
    {
      "cell_type": "markdown",
      "source": [
        "random 是 NumPy 庫中的一個模塊。該模塊包含用於生成隨機數的函數。該模塊包含一些簡單的隨機數據生成方法、一些排列和分布函數以及隨機生成器函數。"
      ],
      "metadata": {
        "id": "5UQwoTOE2pgl"
      }
    },
    {
      "cell_type": "code",
      "execution_count": 8,
      "metadata": {
        "id": "4tzfJyD5_XjP",
        "outputId": "3e3b81ca-452e-4bde-b71a-e77b3067c0e5",
        "colab": {
          "base_uri": "https://localhost:8080/"
        }
      },
      "outputs": [
        {
          "output_type": "execute_result",
          "data": {
            "text/plain": [
              "array([[0.45929926, 0.53975849, 0.9962341 ],\n",
              "       [0.37836375, 0.82059175, 0.21747839],\n",
              "       [0.82924524, 0.45508557, 0.64694999]])"
            ]
          },
          "metadata": {},
          "execution_count": 8
        }
      ],
      "source": [
        "# 建立一個平均分佈的3x3陣列\n",
        "# 在0到1之間亂數值\n",
        "x = np.random.random((3, 3))\n",
        "x"
      ]
    },
    {
      "cell_type": "code",
      "source": [
        "x[0][1]"
      ],
      "metadata": {
        "colab": {
          "base_uri": "https://localhost:8080/"
        },
        "id": "L0t-If9pMXMM",
        "outputId": "eb794d50-eead-4e83-ed79-dbd87eed2bef"
      },
      "execution_count": 9,
      "outputs": [
        {
          "output_type": "execute_result",
          "data": {
            "text/plain": [
              "0.5397584855899772"
            ]
          },
          "metadata": {},
          "execution_count": 9
        }
      ]
    },
    {
      "cell_type": "code",
      "source": [
        "x[1,2]"
      ],
      "metadata": {
        "colab": {
          "base_uri": "https://localhost:8080/"
        },
        "id": "7CbaqZddMfgj",
        "outputId": "6d18be3c-c742-4ebd-cea0-296f11314c71"
      },
      "execution_count": 10,
      "outputs": [
        {
          "output_type": "execute_result",
          "data": {
            "text/plain": [
              "0.2174783918845109"
            ]
          },
          "metadata": {},
          "execution_count": 10
        }
      ]
    },
    {
      "cell_type": "code",
      "execution_count": 11,
      "metadata": {
        "id": "Beg_jmn8_XjQ",
        "outputId": "aa180d2d-0d22-4d03-d97b-152c965b1323",
        "colab": {
          "base_uri": "https://localhost:8080/"
        }
      },
      "outputs": [
        {
          "output_type": "execute_result",
          "data": {
            "text/plain": [
              "array([[ 0.31028559,  1.38371386,  0.84335495],\n",
              "       [ 0.41503347,  0.10010637,  0.06811616],\n",
              "       [ 0.23884955, -0.34476523,  1.34921565]])"
            ]
          },
          "metadata": {},
          "execution_count": 11
        }
      ],
      "source": [
        "# 建立一個3x3的陣列，內容為常態分佈的亂數值\n",
        "# 平均是0而標準差是1\n",
        "np.random.normal(0, 1, (3, 3))"
      ]
    },
    {
      "cell_type": "code",
      "source": [
        "np.random.standard_normal((5,6))"
      ],
      "metadata": {
        "colab": {
          "base_uri": "https://localhost:8080/"
        },
        "id": "IRuTWbbAMr0z",
        "outputId": "5e987a7c-fac9-4d41-9389-ae8e7d7cebf3"
      },
      "execution_count": 12,
      "outputs": [
        {
          "output_type": "execute_result",
          "data": {
            "text/plain": [
              "array([[ 1.22536176,  0.32446728, -0.22650696,  0.21222892, -0.00461677,\n",
              "        -0.76567679],\n",
              "       [ 1.70102028, -0.82519851,  0.75465557,  0.04839682,  0.14356453,\n",
              "        -0.01427694],\n",
              "       [ 0.01087553, -1.26018157, -0.65525643,  0.39531887,  0.29209298,\n",
              "        -0.56733202],\n",
              "       [ 0.08270466,  1.4247205 ,  1.68262485, -0.98050882, -2.01906936,\n",
              "        -0.37401609],\n",
              "       [-0.01228533, -0.33801342,  0.06769269,  1.79215272, -0.82654818,\n",
              "         0.05950837]])"
            ]
          },
          "metadata": {},
          "execution_count": 12
        }
      ]
    },
    {
      "cell_type": "code",
      "execution_count": 13,
      "metadata": {
        "id": "hsRWbXOX_XjQ",
        "outputId": "55a62726-e2df-47c5-a1c6-c0fcbd5fe906",
        "colab": {
          "base_uri": "https://localhost:8080/"
        }
      },
      "outputs": [
        {
          "output_type": "execute_result",
          "data": {
            "text/plain": [
              "array([[4, 5, 0],\n",
              "       [6, 5, 2],\n",
              "       [5, 5, 8]])"
            ]
          },
          "metadata": {},
          "execution_count": 13
        }
      ],
      "source": [
        "# 建立一個3x3的陣列，內容為介於範圍是[0, 10]的整數亂數\n",
        "np.random.randint(0, 10, (3, 3))"
      ]
    },
    {
      "cell_type": "code",
      "source": [
        "np.random.randint(0,50,(4,4))"
      ],
      "metadata": {
        "colab": {
          "base_uri": "https://localhost:8080/"
        },
        "id": "l6WgxIJKM1GE",
        "outputId": "37d97d89-2d54-4d76-b4df-98f7bc9d816d"
      },
      "execution_count": 18,
      "outputs": [
        {
          "output_type": "execute_result",
          "data": {
            "text/plain": [
              "array([[10,  2, 28,  5],\n",
              "       [42, 37, 15, 33],\n",
              "       [32, 11, 41, 24],\n",
              "       [39, 37, 46, 43]])"
            ]
          },
          "metadata": {},
          "execution_count": 18
        }
      ]
    },
    {
      "cell_type": "code",
      "execution_count": null,
      "metadata": {
        "id": "E8keKBuN_XjS",
        "outputId": "041a2125-80be-4a46-cc43-c6a44e1be8a2"
      },
      "outputs": [
        {
          "data": {
            "text/plain": [
              "array([[ 1.,  0.,  0.],\n",
              "       [ 0.,  1.,  0.],\n",
              "       [ 0.,  0.,  1.]])"
            ]
          },
          "execution_count": 20,
          "metadata": {},
          "output_type": "execute_result"
        }
      ],
      "source": [
        "# 建立一個3x3的 單位矩陣\n",
        "np.eye(3)"
      ]
    },
    {
      "cell_type": "markdown",
      "metadata": {
        "id": "resPrhDn_XjT"
      },
      "source": [
        "## Numpy的標準資料型態\n",
        "\n",
        "標準的Numpy資料型態，可透過字串來指定型態:\n",
        "```python\n",
        "np.zeros(10, dtype='int16')\n",
        "```\n",
        "\n",
        "也可以使用相對應的Numpy物件來指定型態:\n",
        "```python\n",
        "np.zeros(10, dtype=np.int16)\n",
        "```"
      ]
    },
    {
      "cell_type": "markdown",
      "metadata": {
        "id": "SzuCIX4S_XjU"
      },
      "source": [
        "| Data type\t    | Description |\n",
        "|---------------|-------------|\n",
        "| ``bool_``     | Boolean (True or False) stored as a byte |\n",
        "| ``int_``      | Default integer type (same as C ``long``; normally either ``int64`` or ``int32``)| \n",
        "| ``intc``      | Identical to C ``int`` (normally ``int32`` or ``int64``)| \n",
        "| ``intp``      | Integer used for indexing (same as C ``ssize_t``; normally either ``int32`` or ``int64``)| \n",
        "| ``int8``      | Byte (-128 to 127)| \n",
        "| ``int16``     | Integer (-32768 to 32767)|\n",
        "| ``int32``     | Integer (-2147483648 to 2147483647)|\n",
        "| ``int64``     | Integer (-9223372036854775808 to 9223372036854775807)| \n",
        "| ``uint8``     | Unsigned integer (0 to 255)| \n",
        "| ``uint16``    | Unsigned integer (0 to 65535)| \n",
        "| ``uint32``    | Unsigned integer (0 to 4294967295)| \n",
        "| ``uint64``    | Unsigned integer (0 to 18446744073709551615)| \n",
        "| ``float_``    | Shorthand for ``float64``.| \n",
        "| ``float16``   | Half precision float: sign bit, 5 bits exponent, 10 bits mantissa| \n",
        "| ``float32``   | Single precision float: sign bit, 8 bits exponent, 23 bits mantissa| \n",
        "| ``float64``   | Double precision float: sign bit, 11 bits exponent, 52 bits mantissa| \n",
        "| ``complex_``  | Shorthand for ``complex128``.| \n",
        "| ``complex64`` | Complex number, represented by two 32-bit floats| \n",
        "| ``complex128``| Complex number, represented by two 64-bit floats| "
      ]
    }
  ],
  "metadata": {
    "anaconda-cloud": {},
    "kernelspec": {
      "display_name": "Python 3",
      "language": "python",
      "name": "python3"
    },
    "language_info": {
      "codemirror_mode": {
        "name": "ipython",
        "version": 3
      },
      "file_extension": ".py",
      "mimetype": "text/x-python",
      "name": "python",
      "nbconvert_exporter": "python",
      "pygments_lexer": "ipython3",
      "version": "3.5.1"
    },
    "colab": {
      "name": "02_01_Understanding Data Types in Python (了解Python的資料型態).ipynb",
      "provenance": []
    },
    "accelerator": "GPU"
  },
  "nbformat": 4,
  "nbformat_minor": 0
}